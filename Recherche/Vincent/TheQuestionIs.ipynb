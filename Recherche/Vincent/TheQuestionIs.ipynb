{
 "cells": [
  {
   "cell_type": "code",
   "execution_count": 1,
   "id": "5e855432-ecfb-4a4a-b5d6-a96b7685d19f",
   "metadata": {},
   "outputs": [],
   "source": [
    "from transformers import PreTrainedTokenizerFast\n",
    "tokenizer = PreTrainedTokenizerFast(tokenizer_file=\"Tables/tokenizer.json\")"
   ]
  },
  {
   "cell_type": "code",
   "execution_count": 2,
   "id": "a3f95c51-8b7e-4c2b-8679-b87d1f6d7a0a",
   "metadata": {},
   "outputs": [],
   "source": [
    "def Comment(Ordre):\n",
    "    encoding = tokenizer.encode(Ordre)\n",
    "    print(encoding)\n",
    "    print(tokenizer.decode(encoding, True))\n",
    "    encoding[0] = encoding[1]\n",
    "    encoding[1] = 67\n",
    "    encoding.insert(0,17475)\n",
    "    encoding[len(encoding)-1] = 24\n",
    "    if (171 in encoding):\n",
    "        encoding.remove(171)\n",
    "    print(encoding)\n",
    "    return tokenizer.decode(encoding, True).replace(\" ##\",\"\").replace(\" ' \",\"'\")"
   ]
  },
  {
   "cell_type": "code",
   "execution_count": 3,
   "id": "7b7e0366-864d-4ef8-8905-d7bff465c68b",
   "metadata": {},
   "outputs": [],
   "source": [
    "def Pourquoi(Ordre):\n",
    "    encoding = tokenizer.encode(Ordre)\n",
    "    encoding[0] = encoding[1]\n",
    "    encoding[1] = 67\n",
    "    encoding.insert(0,tokenizer.encode(\"pourquoi\")[0])\n",
    "    encoding.insert(1,tokenizer.encode(\"pourquoi\")[1])\n",
    "    encoding.insert(2,tokenizer.encode(\"pourquoi\")[2])\n",
    "    encoding[len(encoding)-1] = 24\n",
    "    if (171 in encoding):\n",
    "        encoding.remove(171)\n",
    "    print(encoding)\n",
    "    return tokenizer.decode(encoding, True).replace(\" ##\",\"\").replace(\" ' \",\"'\")"
   ]
  },
  {
   "cell_type": "code",
   "execution_count": 4,
   "id": "79328b83-0303-4a07-8ffd-8736ce3208e1",
   "metadata": {},
   "outputs": [],
   "source": [
    "def Quand(Ordre):\n",
    "    encoding = tokenizer.encode(Ordre)\n",
    "    encoding[0] = encoding[1]\n",
    "    encoding[1] = 67\n",
    "    encoding.insert(0,7031)\n",
    "    encoding[len(encoding)-1] = 24\n",
    "    if (171 in encoding):\n",
    "        encoding.remove(171)\n",
    "    #print(encoding)\n",
    "    return tokenizer.decode(encoding, True).replace(\" ##\",\"\").replace(\" ' \",\"'\")"
   ]
  },
  {
   "cell_type": "code",
   "execution_count": 5,
   "id": "d0685dc1-ffaa-4caf-979f-aafd740e6a44",
   "metadata": {},
   "outputs": [],
   "source": [
    "def Ou(Ordre):\n",
    "    encoding = tokenizer.encode(Ordre)\n",
    "    encoding[0] = encoding[1]\n",
    "    encoding[1] = 67\n",
    "    encoding.insert(0,394)\n",
    "    encoding[len(encoding)-1] = 24\n",
    "    if (171 in encoding):\n",
    "        encoding.remove(171)\n",
    "    #print(encoding)\n",
    "    return tokenizer.decode(encoding, True).replace(\" ##\",\"\").replace(\" ' \",\"'\")"
   ]
  },
  {
   "cell_type": "code",
   "execution_count": 6,
   "id": "a98ef64c-9792-4582-afb6-d7da006f4e33",
   "metadata": {},
   "outputs": [
    {
     "name": "stdout",
     "output_type": "stream",
     "text": [
      "[0, 5191, 2244, 1797, 12025, 73, 2333, 57, 10, 775, 10]\n",
      "cree une unite appele ##e tot ##o . pas .\n",
      "[17475, 5191, 67, 2244, 1797, 12025, 73, 2333, 57, 10, 775, 24]\n",
      "comment creer une unite appelee toto . pas ?\n",
      "quand creer une unite appelee toto . pas ?\n",
      "ou creer une unite appelee toto . pas ?\n",
      "[225, 831, 983, 5191, 67, 2244, 1797, 12025, 73, 2333, 57, 10, 775, 24]\n",
      "pourquoi creer une unite appelee toto . pas ?\n",
      "[0, 2934, 171, 61, 467, 949, 107, 3657, 5703, 10]\n",
      "donne mo ##i le nombre de commandes fournisseurs .\n",
      "[17475, 2934, 67, 61, 467, 949, 107, 3657, 5703, 24]\n",
      "comment donneri le nombre de commandes fournisseurs ?\n",
      "[225, 831, 983, 2934, 67, 61, 467, 949, 107, 3657, 5703, 24]\n",
      "pourquoi donneri le nombre de commandes fournisseurs ?\n",
      "[0, 17156, 2244, 17535, 73, 939, 2238, 1531, 225, 195, 0, 6, 52, 1172, 942, 84, 10, 2238, 6, 10]\n",
      "ajoute une constant ##e fichier ini avec pour valeur ' y ##ous ##ig ##n . ini ' .\n",
      "[17475, 17156, 67, 2244, 17535, 73, 939, 2238, 1531, 225, 195, 0, 6, 52, 1172, 942, 84, 10, 2238, 6, 24]\n",
      "comment ajouter une constante fichier ini avec pour valeur'yousign . ini'?\n",
      "[17475, 13335, 2244, 17535, 73, 4, 1531, 225, 195, 4, 24]\n",
      "[17475, 13335, 2244, 17535, 73, 4, 4618, 225, 195, 4, 24]\n",
      "[17475, 13335, 2244, 17535, 73, 4, 4618, 17474, 195, 4, 24]\n",
      "[17475, 17156, 67, 2244, 17535, 73, 4, 1531, 225, 195, 4, 24]\n",
      "[17475, 17156, 67, 2244, 17535, 73, 4, 4618, 225, 195, 4, 24]\n",
      "[17475, 17156, 67, 2244, 17535, 73, 4, 4618, 17474, 195, 4, 24]\n",
      "[17475, 17156, 67, 2244, 3311, 4, 24]\n"
     ]
    }
   ],
   "source": [
    "print(Comment(\"* Crée une unité appelée toto.pas.\"))\n",
    "print(Quand(\"* Crée une unité appelée toto.pas.\"))\n",
    "print(Ou(\"* Crée une unité appelée toto.pas.\"))\n",
    "print(Pourquoi(\"* Crée une unité appelée toto.pas.\"))\n",
    "print(Comment(\"* Donne moi le nombre de commandes fournisseurs.\"))\n",
    "print(Pourquoi(\"* Donne moi le nombre de commandes fournisseurs.\"))\n",
    "print(Comment(\"* Ajoute une constante Fichier ini avec pour valeur : 'YouSign.ini'.\"))\n",
    "print(tokenizer.encode(\"comment creer une constante [MASK] avec pour valeur [MASK] ?\"))\n",
    "print(tokenizer.encode(\"comment creer une constante [MASK] ayant pour valeur [MASK] ?\"))\n",
    "print(tokenizer.encode(\"comment creer une constante [MASK] ayant comme valeur [MASK] ?\"))\n",
    "print(tokenizer.encode(\"comment ajouter une constante [MASK] avec pour valeur [MASK] ?\"))\n",
    "print(tokenizer.encode(\"comment ajouter une constante [MASK] ayant pour valeur [MASK] ?\"))\n",
    "print(tokenizer.encode(\"comment ajouter une constante [MASK] ayant comme valeur [MASK] ?\"))\n",
    "print(tokenizer.encode(\"comment ajouter une variable [MASK] ?\"))"
   ]
  },
  {
   "cell_type": "code",
   "execution_count": 7,
   "id": "68d6440f-0b9c-45af-a14a-b6a1767945dc",
   "metadata": {},
   "outputs": [
    {
     "data": {
      "text/plain": [
       "[8601]"
      ]
     },
     "execution_count": 7,
     "metadata": {},
     "output_type": "execute_result"
    }
   ],
   "source": [
    "tokenizer.encode(\"te\")"
   ]
  },
  {
   "cell_type": "code",
   "execution_count": 8,
   "id": "b44f3254-aba2-414a-8e9f-51e23da59ca4",
   "metadata": {},
   "outputs": [
    {
     "name": "stdout",
     "output_type": "stream",
     "text": [
      "[0, 2934, 171, 61, 467, 949, 107, 3657, 5703, 10]\n",
      "donne mo ##i le nombre de commandes fournisseurs .\n",
      "[17475, 2934, 67, 61, 467, 949, 107, 3657, 5703, 24]\n"
     ]
    },
    {
     "data": {
      "text/plain": [
       "'comment donneri le nombre de commandes fournisseurs ?'"
      ]
     },
     "execution_count": 8,
     "metadata": {},
     "output_type": "execute_result"
    }
   ],
   "source": [
    "Comment(\"* Donne moi le nombre de commandes fournisseurs.\")"
   ]
  },
  {
   "cell_type": "code",
   "execution_count": 9,
   "id": "122fdced-0b86-4bb1-9f4e-e7113c358466",
   "metadata": {},
   "outputs": [
    {
     "name": "stdout",
     "output_type": "stream",
     "text": [
      "[0, 5191, 2244, 5214, 1797, 4618, 225, 455, 8541, 6325, 508, 161, 111, 10]\n",
      "cree une nouvelle unite ayant pour nom mas ##upe ##ru ##ni ##te .\n",
      "[17475, 5191, 67, 2244, 5214, 1797, 4618, 225, 455, 8541, 6325, 508, 161, 111, 24]\n"
     ]
    },
    {
     "data": {
      "text/plain": [
       "'comment creer une nouvelle unite ayant pour nom masuperunite ?'"
      ]
     },
     "execution_count": 9,
     "metadata": {},
     "output_type": "execute_result"
    }
   ],
   "source": [
    "Comment(\"* Crée une nouvelle unité ayant pour nom MaSuperUnite.\")"
   ]
  },
  {
   "cell_type": "code",
   "execution_count": 10,
   "id": "0f6f45c7-67ca-4720-85d6-2db709095c63",
   "metadata": {},
   "outputs": [
    {
     "name": "stdout",
     "output_type": "stream",
     "text": [
      "[0, 7408, 467, 1465, 2453, 73, 107, 5214, 18124, 765, 467, 15946, 107, 39, 6, 993, 308, 10]\n",
      "applique le temp ##lat ##e de nouvelle classe dans le contenu de l ' un ##tie .\n",
      "[17475, 7408, 67, 467, 1465, 2453, 73, 107, 5214, 18124, 765, 467, 15946, 107, 39, 6, 993, 308, 24]\n"
     ]
    },
    {
     "data": {
      "text/plain": [
       "\"comment appliquer le template de nouvelle classe dans le contenu de l'untie ?\""
      ]
     },
     "execution_count": 10,
     "metadata": {},
     "output_type": "execute_result"
    }
   ],
   "source": [
    "Comment(\"* Applique le template de nouvelle classe dans le contenu de l'untié.\")"
   ]
  },
  {
   "cell_type": "code",
   "execution_count": 11,
   "id": "78b10d1f-1a43-44c0-92c8-3e6314c3929f",
   "metadata": {},
   "outputs": [
    {
     "name": "stdout",
     "output_type": "stream",
     "text": [
      "[0, 7408, 467, 1465, 2453, 73, 107, 5214, 18124, 10]\n",
      "applique le temp ##lat ##e de nouvelle classe .\n",
      "[17475, 7408, 67, 467, 1465, 2453, 73, 107, 5214, 18124, 24]\n"
     ]
    },
    {
     "data": {
      "text/plain": [
       "'comment appliquer le template de nouvelle classe ?'"
      ]
     },
     "execution_count": 11,
     "metadata": {},
     "output_type": "execute_result"
    }
   ],
   "source": [
    "Comment(\"* Applique le template de nouvelle classe.\")"
   ]
  },
  {
   "cell_type": "code",
   "execution_count": 12,
   "id": "c9bc2277-be91-45ab-b692-2d2e7d457784",
   "metadata": {},
   "outputs": [],
   "source": [
    "def tok(sentences):\n",
    "    for s in sentences:\n",
    "        encoding = tokenizer.encode(s)\n",
    "        print(encoding)\n",
    "        print(tokenizer.decode(encoding, True))\n"
   ]
  },
  {
   "cell_type": "code",
   "execution_count": 13,
   "id": "f9abf740-c91e-4328-b764-b832d22a36f2",
   "metadata": {},
   "outputs": [
    {
     "name": "stdout",
     "output_type": "stream",
     "text": [
      "[455, 107, 226, 18124]\n",
      "nom de la classe\n",
      "[455, 2004, 4098]\n",
      "nom ##cl ##asse\n",
      "[455, 107, 226, 1255]\n",
      "nom de la commande\n",
      "[455, 448, 871]\n",
      "nom ##comm ##ande\n",
      "[4589, 107, 226, 1255]\n",
      "url de la commande\n",
      "[4589, 448, 871]\n",
      "url ##comm ##ande\n",
      "[1825, 107, 226, 1255]\n",
      "methode de la commande\n",
      "[1825, 448, 871]\n",
      "methode ##comm ##ande\n"
     ]
    }
   ],
   "source": [
    "tok([\n",
    "\"Nom de la classe\",\n",
    "\"NomClasse\",\n",
    "\"Nom de la commande\",\n",
    "\"NomCommande\",\n",
    "\"URL de la commande\",\n",
    "\"URLCommande\",\n",
    "\"Méthode de la commande\",\n",
    "\"MethodeCommande\"])"
   ]
  },
  {
   "cell_type": "code",
   "execution_count": 14,
   "id": "78d04fb4-538c-4a6e-b3ba-0aec8d67867b",
   "metadata": {},
   "outputs": [
    {
     "name": "stdout",
     "output_type": "stream",
     "text": [
      "FUrlCommande\n"
     ]
    }
   ],
   "source": [
    "dets = [107,226]\n",
    "def beautify(ch,prefix):\n",
    "    result = []\n",
    "    encoding = tokenizer.encode(ch)\n",
    "    for t in encoding:\n",
    "        if not (t in dets):\n",
    "            result.append(t)\n",
    "    return prefix+tokenizer.decode(result,True).title().replace(\" \",\"\")\n",
    "print(beautify(\"URL de la commande\",\"F\"))"
   ]
  },
  {
   "cell_type": "code",
   "execution_count": 15,
   "id": "62d76a44-4f39-495a-9db6-7c9820cb24e1",
   "metadata": {},
   "outputs": [
    {
     "name": "stdout",
     "output_type": "stream",
     "text": [
      "[0, 2470, 467, 455, 215, 369, 765, 39, 6, 2539, 10]\n",
      "charge le nom du tiers dans l ' objet .\n",
      "[17475, 2470, 67, 467, 455, 215, 369, 765, 39, 6, 2539, 24]\n"
     ]
    },
    {
     "data": {
      "text/plain": [
       "\"comment charger le nom du tiers dans l'objet ?\""
      ]
     },
     "execution_count": 15,
     "metadata": {},
     "output_type": "execute_result"
    }
   ],
   "source": [
    "Comment(\"* Charge le nom du tiers dans l'objet.\")"
   ]
  },
  {
   "cell_type": "code",
   "execution_count": 16,
   "id": "ac21fb73-6a41-47fb-8a77-45360d862010",
   "metadata": {},
   "outputs": [
    {
     "name": "stdout",
     "output_type": "stream",
     "text": [
      "[0, 2470, 4, 765, 39, 6, 2539, 10]\n"
     ]
    },
    {
     "data": {
      "text/plain": [
       "[17475, 2470, 67, 4, 765, 39, 6, 2539, 24]"
      ]
     },
     "execution_count": 16,
     "metadata": {},
     "output_type": "execute_result"
    }
   ],
   "source": [
    "def Comment_(Ordre):\n",
    "    encoding = tokenizer.encode(Ordre)\n",
    "    print(encoding)\n",
    "    encoding[0] = encoding[1]\n",
    "    encoding[1] = 67\n",
    "    encoding.insert(0,17475)\n",
    "    encoding[len(encoding)-1] = 24\n",
    "    if (171 in encoding):\n",
    "        encoding.remove(171)\n",
    "    return encoding\n",
    "Comment_(\"* Charge [MASK] dans l'objet.\")"
   ]
  },
  {
   "cell_type": "code",
   "execution_count": 50,
   "id": "6ea54126-e0f4-4a95-83ca-00cc0833a6b9",
   "metadata": {},
   "outputs": [],
   "source": [
    "class IAParam:\n",
    "    def __init_\n",
    "class IACmd:\n",
    "    def __init__(self, question,command,Params):\n",
    "        self.question=question\n",
    "        self.command=command\n",
    "        self.nbParam = 0\n",
    "        for t in self.question:\n",
    "            if t==4:\n",
    "                self.nbParam = self.nbParam + 1"
   ]
  },
  {
   "cell_type": "code",
   "execution_count": 53,
   "id": "2e20b730-5fd2-47cc-9540-4948e0faa6d0",
   "metadata": {},
   "outputs": [
    {
     "name": "stdout",
     "output_type": "stream",
     "text": [
      "[0, 2470, 4, 765, 39, 6, 2539, 10]\n"
     ]
    }
   ],
   "source": [
    "a=IACmd(Comment_(\"* Charge [MASK] dans l'objet.\"),\"Template\",[])"
   ]
  },
  {
   "cell_type": "code",
   "execution_count": 54,
   "id": "78244fde-b0b1-422c-ba05-24daf0b31f06",
   "metadata": {},
   "outputs": [
    {
     "data": {
      "text/plain": [
       "{'question': [17475, 2470, 67, 4, 765, 39, 6, 2539, 24],\n",
       " 'command': 'Template',\n",
       " 'nbParam': 1}"
      ]
     },
     "execution_count": 54,
     "metadata": {},
     "output_type": "execute_result"
    }
   ],
   "source": [
    "a.__dict__"
   ]
  },
  {
   "cell_type": "code",
   "execution_count": 34,
   "id": "a88a2646-60e5-45d1-b8f4-ce18cb2e58ef",
   "metadata": {},
   "outputs": [
    {
     "data": {
      "text/plain": [
       "{'question': \"comment charger dans l'objet ?\",\n",
       " 'command': 'Template',\n",
       " 'nbParam': 0}"
      ]
     },
     "execution_count": 34,
     "metadata": {},
     "output_type": "execute_result"
    }
   ],
   "source": [
    "a.__dict__"
   ]
  },
  {
   "cell_type": "code",
   "execution_count": 55,
   "id": "6e90ff3c-45f9-46dc-aa16-51a98335cd87",
   "metadata": {},
   "outputs": [],
   "source": [
    "Param = \"\"\"\n",
    "Question : Quel est le nom de la constante?\n",
    "NomParam : Nom de la constante\n",
    "SupprDet : True\n",
    "Beautify : True\n",
    "Search : \n",
    "\"\"\""
   ]
  },
  {
   "cell_type": "code",
   "execution_count": 58,
   "id": "6cfed880-c988-4042-ba67-c26e254a20f4",
   "metadata": {},
   "outputs": [
    {
     "name": "stdout",
     "output_type": "stream",
     "text": [
      "\n",
      "interface\n",
      "\n",
      "type\n",
      "\tTLPYouSign = class\n",
      "\t\tprivate\n",
      "\t\t\tclass var instance : TLPYouSign;\n",
      "\t\t\tconstructor Create;\n",
      "\t\tprotected\n",
      "\t\t\tprocedure onCreate;\n",
      "\t\tpublic\n",
      "\t\t\tclass function Get: TLPYouSign;\n",
      "\tend;\n",
      "\n",
      "implementation\n",
      "\n",
      "constructor TLPYouSign.Create;\n",
      "begin\n",
      "\t// PlaceHolder\n",
      "end;\n",
      "\n",
      "procedure TLPYouSign.onCreate;\n",
      "begin\n",
      "\t// TODO: Compléter l'initialisation du Singleton TLPYouSign\n",
      "end;\n",
      "\n",
      "class function TLpYouSign.Get: TLpYouSign;\n",
      "begin\n",
      "\tif not Assigned(instance) then\n",
      "\tbegin\n",
      "\t\tInstance := TLpYouSign.Create;\n",
      "\t\tInstance.onCreate; \n",
      "\tend;\n",
      "\tResult := Instance;\n",
      "end;\n",
      "\n"
     ]
    }
   ],
   "source": [
    "code = \"\"\"\n",
    "interface\n",
    "\n",
    "type\n",
    "|*|TLP|NewClassName| = class\n",
    "|*||*|private\n",
    "|*||*||*|class var instance : TLP|NewClassName|;\n",
    "|*||*||*|constructor Create;\n",
    "|*||*|protected\n",
    "|*||*||*|procedure onCreate;\n",
    "|*||*|public\n",
    "|*||*||*|class function Get: TLP|NewClassName|;\n",
    "|*|end;\n",
    "\n",
    "implementation\n",
    "\n",
    "constructor TLP|NewClassName|.Create;\n",
    "begin\n",
    "|*|// PlaceHolder\n",
    "end;\n",
    "\n",
    "procedure TLP|NewClassName|.onCreate;\n",
    "begin\n",
    "|*|// TODO: Compléter l'initialisation du Singleton TLP|NewClassName|\n",
    "end;\n",
    "\n",
    "class function TLp|NewClassName|.Get: TLp|NewClassName|;\n",
    "begin\n",
    "|*|if not Assigned(instance) then\n",
    "|*|begin\n",
    "|*||*|Instance := TLp|NewClassName|.Create;\n",
    "|*||*|Instance.onCreate; \n",
    "|*|end;\n",
    "|*|Result := Instance;\n",
    "end;\n",
    "\"\"\"\n",
    "print(code.replace(\"|*|\",\"\\t\").replace(\"|NewClassName|\",\"YouSign\"))\n"
   ]
  },
  {
   "cell_type": "code",
   "execution_count": 60,
   "id": "de5f331b-a995-4065-be9f-54b6a82ffb16",
   "metadata": {},
   "outputs": [
    {
     "data": {
      "text/plain": [
       "[467, 2440, 2796, 107, 6917, 67, 247, 3545, 2776, 467, 1738, 65, 566, 10]"
      ]
     },
     "execution_count": 60,
     "metadata": {},
     "output_type": "execute_result"
    }
   ],
   "source": [
    "encoding = tokenizer.encode(\"Le langage de programmation est le delphi.\")\n",
    "encoding"
   ]
  },
  {
   "cell_type": "code",
   "execution_count": null,
   "id": "791f9063-9323-4d42-9883-d841f8566b8e",
   "metadata": {},
   "outputs": [],
   "source": []
  }
 ],
 "metadata": {
  "kernelspec": {
   "display_name": "Python 3 (ipykernel)",
   "language": "python",
   "name": "python3"
  },
  "language_info": {
   "codemirror_mode": {
    "name": "ipython",
    "version": 3
   },
   "file_extension": ".py",
   "mimetype": "text/x-python",
   "name": "python",
   "nbconvert_exporter": "python",
   "pygments_lexer": "ipython3",
   "version": "3.10.13"
  }
 },
 "nbformat": 4,
 "nbformat_minor": 5
}
