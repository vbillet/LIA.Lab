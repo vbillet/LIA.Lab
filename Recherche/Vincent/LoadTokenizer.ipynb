{
 "cells": [
  {
   "cell_type": "code",
   "execution_count": 1,
   "id": "771d9bcc-50d1-43a8-90e1-c234a7a8032f",
   "metadata": {},
   "outputs": [],
   "source": [
    "from transformers import PreTrainedTokenizerFast"
   ]
  },
  {
   "cell_type": "code",
   "execution_count": 2,
   "id": "4e539aab-bcae-493f-84f8-07cd186da871",
   "metadata": {},
   "outputs": [],
   "source": [
    "tokenizer = PreTrainedTokenizerFast(tokenizer_file=\"Tables/tokenizer.json\")"
   ]
  },
  {
   "cell_type": "code",
   "execution_count": 3,
   "id": "32994e1a-16c8-41bb-96cb-73e616cac594",
   "metadata": {},
   "outputs": [
    {
     "name": "stdout",
     "output_type": "stream",
     "text": [
      "[2934, 171, 61, 226, 2943, 287, 3657, 5703, 249, 3669, 10]\n",
      "donne mo ##i la liste des commandes fournisseurs en cours .\n"
     ]
    }
   ],
   "source": [
    "encoding = tokenizer.encode(\"donne moi la liste des commandes fournisseurs en cours.\")\n",
    "print(encoding)\n",
    "print(tokenizer.decode(encoding, True))"
   ]
  },
  {
   "cell_type": "code",
   "execution_count": 4,
   "id": "845303a3-5694-406a-ad86-3ce30150b471",
   "metadata": {},
   "outputs": [
    {
     "data": {
      "text/plain": [
       "'donne mo ##i la liste des commandes fournisseurs en cours .'"
      ]
     },
     "execution_count": 4,
     "metadata": {},
     "output_type": "execute_result"
    }
   ],
   "source": [
    "tokenizer.decode(encoding, True)"
   ]
  },
  {
   "cell_type": "code",
   "execution_count": 5,
   "id": "67ac83e7-9828-4866-9f83-ae7adf4dfa64",
   "metadata": {},
   "outputs": [
    {
     "name": "stdout",
     "output_type": "stream",
     "text": [
      "[6581]\n",
      "f350ky\n"
     ]
    }
   ],
   "source": [
    "encoding = tokenizer.encode(\"F350KY\")\n",
    "print(encoding)\n",
    "print(tokenizer.decode(encoding, True))"
   ]
  },
  {
   "cell_type": "code",
   "execution_count": 6,
   "id": "47ae0583-953c-476d-a744-9adc9da59569",
   "metadata": {},
   "outputs": [
    {
     "name": "stdout",
     "output_type": "stream",
     "text": [
      "[8510, 3979, 6282, 386, 13335, 2244, 2030, 1546, 3410, 2336, 226, 2943, 287, 5703, 767, 993, 671, 2934, 10]\n",
      "je vou ##dr ##ais creer une requete qui afficher ##ait la liste des fournisseurs sur un mois donne .\n"
     ]
    }
   ],
   "source": [
    "encoding = tokenizer.encode(\"Je voudrais créer une requête qui afficherait la liste des fournisseurs sur un mois donné.\")\n",
    "print(encoding)\n",
    "print(tokenizer.decode(encoding, True))"
   ]
  },
  {
   "cell_type": "code",
   "execution_count": 7,
   "id": "61694bb0-dfdd-4be6-8f96-ae36fd9c2444",
   "metadata": {},
   "outputs": [],
   "source": [
    "encoding = tokenizer.encode(\"Je voudrais créer une requête qui afficherait la liste des fournisseurs sur un mois donné.\")"
   ]
  },
  {
   "cell_type": "code",
   "execution_count": 8,
   "id": "5b62ceac-8332-4670-8957-1814fe4861bb",
   "metadata": {},
   "outputs": [
    {
     "name": "stdout",
     "output_type": "stream",
     "text": [
      "[17156, 467, 8395, 4, 635, 939, 107, 359, 149, 82, 10]\n",
      "ajoute le parametre au fichier de con ##fi ##g .\n"
     ]
    }
   ],
   "source": [
    "encoding = tokenizer.encode(\"Ajoute le paramètre [MASK] au fichier de config.\")\n",
    "print(encoding)\n",
    "print(tokenizer.decode(encoding, True))"
   ]
  },
  {
   "cell_type": "code",
   "execution_count": 9,
   "id": "8004d8da-42aa-4e8e-9f77-7fc6f9694a3c",
   "metadata": {},
   "outputs": [
    {
     "name": "stdout",
     "output_type": "stream",
     "text": [
      "[17156, 467, 8395, 4, 635, 939, 107, 359, 149, 82, 123, 218, 10]\n",
      "ajoute le parametre au fichier de con ##fi ##g ##ur ##ation .\n"
     ]
    }
   ],
   "source": [
    "encoding = tokenizer.encode(\"Ajoute le paramètre [MASK] au fichier de configuration.\")\n",
    "print(encoding)\n",
    "print(tokenizer.decode(encoding, True))"
   ]
  },
  {
   "cell_type": "code",
   "execution_count": 10,
   "id": "d14b578d-a542-4326-8984-5287e3fe5faf",
   "metadata": {},
   "outputs": [
    {
     "name": "stdout",
     "output_type": "stream",
     "text": [
      "[4666, 6218, 8587, 56, 687, 4506, 215, 939, 2238, 24]\n",
      "que ##ls son ##t les parametres du fichier ini ?\n"
     ]
    }
   ],
   "source": [
    "encoding = tokenizer.encode(\"Quels sont les paramètres du fichier ini ?\")\n",
    "print(encoding)\n",
    "print(tokenizer.decode(encoding, True))"
   ]
  },
  {
   "cell_type": "code",
   "execution_count": 11,
   "id": "f10fed74-1ef6-473c-b5b5-d15f0a0576b7",
   "metadata": {},
   "outputs": [
    {
     "name": "stdout",
     "output_type": "stream",
     "text": [
      "[4846, 687, 4506, 107, 226, 31, 66, 66, 10]\n",
      "affiche les parametres de la d ##l ##l .\n"
     ]
    }
   ],
   "source": [
    "encoding = tokenizer.encode(\"Affiche les paramètres de la dll.\")\n",
    "print(encoding)\n",
    "print(tokenizer.decode(encoding, True))"
   ]
  },
  {
   "cell_type": "code",
   "execution_count": 12,
   "id": "902e615c-f11f-436f-9185-e123476a5b06",
   "metadata": {},
   "outputs": [
    {
     "name": "stdout",
     "output_type": "stream",
     "text": [
      "[17475, 3410, 687, 4506, 107, 226, 31, 66, 66, 24]\n",
      "comment afficher les parametres de la d ##l ##l ?\n"
     ]
    }
   ],
   "source": [
    "encoding = tokenizer.encode(\"Comment afficher les paramètres de la dll?\")\n",
    "print(encoding)\n",
    "print(tokenizer.decode(encoding, True))"
   ]
  },
  {
   "cell_type": "code",
   "execution_count": 13,
   "id": "1d2b2caa-4dd3-45a8-a76e-f9458af352c0",
   "metadata": {},
   "outputs": [
    {
     "name": "stdout",
     "output_type": "stream",
     "text": [
      "[4846, 4846, 80, 326, 5335, 4846, 91, 4846, 168, 3410]\n",
      "affiche affiche ##s affich ##ons affiche ##z affiche ##nt afficher\n"
     ]
    }
   ],
   "source": [
    "encoding = tokenizer.encode(\"Affiche Affiches affichons affichez affichent afficher\")\n",
    "print(encoding)\n",
    "print(tokenizer.decode(encoding, True))"
   ]
  },
  {
   "cell_type": "code",
   "execution_count": 14,
   "id": "fc3770d3-8338-4d7a-8c17-b16f65b9d03b",
   "metadata": {},
   "outputs": [
    {
     "name": "stdout",
     "output_type": "stream",
     "text": [
      "[4180, 216, 4180, 1174, 4180, 3753, 80, 4180, 216, 91, 4180, 9033, 56, 4180, 9034]\n",
      "selection ##ne selection ##nes selection ##non ##s selection ##ne ##z selection ##nen ##t selection ##ner\n"
     ]
    }
   ],
   "source": [
    "encoding = tokenizer.encode(\"Sélectionne Sélectionnes Sélectionnons Sélectionnez Sélectionnent Sélectionner\")\n",
    "print(encoding)\n",
    "print(tokenizer.decode(encoding, True))"
   ]
  },
  {
   "cell_type": "code",
   "execution_count": 15,
   "id": "266d30d7-361e-491e-8553-e3b2ee38681b",
   "metadata": {},
   "outputs": [
    {
     "name": "stdout",
     "output_type": "stream",
     "text": [
      "[3851, 216, 3851, 1174, 3851, 3753, 80, 3851, 216, 91, 3851, 9033, 56, 3851, 9034]\n",
      "addition ##ne addition ##nes addition ##non ##s addition ##ne ##z addition ##nen ##t addition ##ner\n"
     ]
    }
   ],
   "source": [
    "encoding = tokenizer.encode(\"Additionne Additionnes Additionnons Additionnez Additionnent Additionner\")\n",
    "print(encoding)\n",
    "print(tokenizer.decode(encoding, True))"
   ]
  },
  {
   "cell_type": "code",
   "execution_count": 16,
   "id": "3f0839f8-e070-4225-8216-e6921d8b136f",
   "metadata": {},
   "outputs": [
    {
     "name": "stdout",
     "output_type": "stream",
     "text": [
      "[3467, 1916, 73, 3467, 1916, 186, 3467, 1916, 5335, 3467, 1916, 73, 91, 3467, 1916, 139, 5747]\n",
      "supp ##rim ##e supp ##rim ##es supp ##rim ##ons supp ##rim ##e ##z supp ##rim ##ent supprimer\n"
     ]
    }
   ],
   "source": [
    "encoding = tokenizer.encode(\"Supprime Supprimes Supprimons Supprimez Suppriment Supprimer\")\n",
    "print(encoding)\n",
    "print(tokenizer.decode(encoding, True))"
   ]
  },
  {
   "cell_type": "code",
   "execution_count": 17,
   "id": "7716dfa8-749a-4b04-b001-cf3f05a2628d",
   "metadata": {},
   "outputs": [
    {
     "name": "stdout",
     "output_type": "stream",
     "text": [
      "[939, 2238, 9, 939, 107, 359, 149, 82, 123, 218, 9, 939, 107, 1384, 10]\n",
      "fichier ini , fichier de con ##fi ##g ##ur ##ation , fichier de parametrage .\n"
     ]
    }
   ],
   "source": [
    "encoding = tokenizer.encode(\"fichier ini, fichier de configuration, fichier de paramètrage.\")\n",
    "print(encoding)\n",
    "print(tokenizer.decode(encoding, True))"
   ]
  },
  {
   "cell_type": "code",
   "execution_count": 18,
   "id": "1493b6b4-0555-4db7-9c17-65298c339348",
   "metadata": {},
   "outputs": [],
   "source": [
    "def tok(sentences):\n",
    "    for s in sentences:\n",
    "        encoding = tokenizer.encode(s)\n",
    "        print(encoding)\n",
    "        print(tokenizer.decode(encoding, True))\n",
    "        "
   ]
  },
  {
   "cell_type": "code",
   "execution_count": 19,
   "id": "4f4a05b1-d449-421b-8a65-1cb0b12aeefc",
   "metadata": {},
   "outputs": [
    {
     "name": "stdout",
     "output_type": "stream",
     "text": [
      "[2943, 287, 3657, 0]\n",
      "liste des commandes\n",
      "[0, 17156, 467, 8395, 4, 635, 939, 107, 359, 149, 82, 10]\n",
      "ajoute le parametre au fichier de con ##fi ##g .\n",
      "[0, 17156, 467, 8395, 4, 635, 939, 107, 359, 149, 82, 123, 218, 10]\n",
      "ajoute le parametre au fichier de con ##fi ##g ##ur ##ation .\n",
      "[0, 17156, 467, 8395, 4, 635, 939, 2238, 10]\n",
      "ajoute le parametre au fichier ini .\n",
      "[0, 4666, 6218, 8587, 56, 687, 4506, 107, 226, 31, 66, 66, 24]\n",
      "que ##ls son ##t les parametres de la d ##l ##l ?\n",
      "[0, 4666, 6218, 8587, 56, 687, 6888, 8905, 215, 939, 2238, 24]\n",
      "que ##ls son ##t les param ##eres du fichier ini ?\n",
      "[0, 4666, 6218, 8587, 56, 687, 6888, 8905, 107, 359, 149, 82, 123, 218, 24]\n",
      "que ##ls son ##t les param ##eres de con ##fi ##g ##ur ##ation ?\n",
      "[0, 4846, 687, 4506, 107, 226, 31, 66, 66, 10]\n",
      "affiche les parametres de la d ##l ##l .\n",
      "[0, 4846, 6888, 126, 180, 215, 939, 2238, 10]\n",
      "affiche param ##er ##res du fichier ini .\n",
      "[0, 4846, 6888, 126, 180, 107, 359, 149, 82, 123, 218, 10]\n",
      "affiche param ##er ##res de con ##fi ##g ##ur ##ation .\n"
     ]
    }
   ],
   "source": [
    "tok([\"Liste des commandes :\",\n",
    "\"* Ajoute le paramètre [MASK] au fichier de config.\",\n",
    "\"* Ajoute le paramètre [MASK] au fichier de configuration.\",\n",
    "\"* Ajoute le paramètre [MASK] au fichier ini.\",\n",
    "\"* Quels sont les paramètres de la dll ?\",\n",
    "\"* Quels sont les paramères du fichier ini ?\",\n",
    "\"* Quels sont les paramères de configuration ?\",\n",
    "\"* Affiche les paramètres de la dll.\",\n",
    "\"* Affiche paramèrres du fichier ini.\",\n",
    "\"* Affiche paramèrres de configuration.\"])"
   ]
  },
  {
   "cell_type": "code",
   "execution_count": 20,
   "id": "4b65a30b-82e2-4891-9f50-8d32adedfaae",
   "metadata": {},
   "outputs": [
    {
     "name": "stdout",
     "output_type": "stream",
     "text": [
      "[2943, 287, 3657, 0]\n",
      "liste des commandes\n",
      "[0, 17475, 212, 67, 4, 24]\n",
      "comment code ##r ?\n",
      "[0, 17475, 212, 67, 993, 1169, 6309, 296, 84, 249, 4, 24]\n",
      "comment code ##r un sin ##gle ##to ##n en ?\n",
      "[0, 17475, 17156, 67, 2244, 8254, 739, 277, 73, 28, 2244, 18124, 24]\n",
      "comment ajoute ##r une propriete pri ##ve ##e a une classe ?\n"
     ]
    }
   ],
   "source": [
    "tok([\"Liste des commandes :\",\n",
    "\"* Comment coder [MASK] ?\",\n",
    "\"* Comment coder un Singleton en [MASK] ?\",\n",
    "\"* Comment ajouter une propriété privée à une classe ?\"])"
   ]
  },
  {
   "cell_type": "code",
   "execution_count": 22,
   "id": "9cfc77dc-abc6-41e8-a37a-88fcfc00f598",
   "metadata": {},
   "outputs": [
    {
     "name": "stdout",
     "output_type": "stream",
     "text": [
      "[212, 171, 61, 993, 4, 10]\n",
      "code mo ##i un .\n",
      "[3964, 759, 5248, 1357, 59, 467, 2440, 2796, 107, 6917, 67, 247, 3545, 1738, 65, 566, 10]\n",
      "on ch ##ois ##ir ##a le lan ##gage de prog ##r ##am ##mation del ##p ##hi .\n",
      "[0, 17475, 212, 67, 4, 24]\n",
      "comment code ##r ?\n"
     ]
    }
   ],
   "source": [
    "tok([\"Code moi un [MASK].\",\n",
    "\"on choisira le langage de programmation delphi.\",\n",
    "\"* Comment coder [MASK] ?\"])"
   ]
  },
  {
   "cell_type": "code",
   "execution_count": 24,
   "id": "e7cbdf2d-f437-4404-a19b-2e546ecc0840",
   "metadata": {},
   "outputs": [
    {
     "name": "stdout",
     "output_type": "stream",
     "text": [
      "[0, 5191, 993, 1169, 6309, 296, 84, 4618, 225, 455, 0, 467, 455, 107, 226, 31, 66, 66, 3536, 107, 6726, 10]\n",
      "cree un sin ##gle ##to ##n ayant pour nom le nom de la d ##l ##l suivi de contexte .\n",
      "[0, 17156, 2244, 1084, 107, 15650, 107, 359, 149, 82, 123, 218]\n",
      "ajoute une operation de chargement de con ##fi ##g ##ur ##ation\n",
      "[0, 17156, 467, 8395, 6127, 728, 9360, 635, 939, 107, 359, 149, 82, 10]\n",
      "ajoute le parametre pwd ##cr ##ypt au fichier de con ##fi ##g .\n",
      "[30, 6, 2776, 39, 105, 1546, 2085, 1123, 107, 8596, 17475, 467, 2025, 107, 2556, 2776, 19564, 10]\n",
      "c ' est l ##ui qui per ##met de savoir comment le mot de passe est crypte .\n",
      "[0, 17156, 467, 8395, 6127, 635, 939, 107, 359, 149, 82, 10]\n",
      "ajoute le parametre pwd au fichier de con ##fi ##g .\n",
      "[30, 6, 2776, 39, 105, 1546, 2085, 1123, 31, 6, 976, 779, 67, 467, 2025, 107, 2556, 10]\n",
      "c ' est l ##ui qui per ##met d ' enreg ##istre ##r le mot de passe .\n",
      "[0, 17156, 467, 8395, 1466, 635, 939, 107, 359, 149, 82, 10]\n",
      "ajoute le parametre user au fichier de con ##fi ##g .\n",
      "[30, 6, 2776, 39, 105, 1546, 2085, 1123, 31, 6, 976, 779, 67, 467, 455, 31, 6, 1159, 10]\n",
      "c ' est l ##ui qui per ##met d ' enreg ##istre ##r le nom d ' utilisateur .\n"
     ]
    }
   ],
   "source": [
    "tok([\"* Crée un singleton ayant pour nom : le nom de la DLL suivi de contexte.\",\n",
    "\"* Ajoute une opération de chargement de configuration\",\n",
    "\"* Ajoute le paramètre PWDCRYPT au fichier de config.\",\n",
    "\"C'est lui qui permet de savoir comment le mot de passe est crypté.\",\n",
    "\"* Ajoute le paramètre PWD au fichier de config.\",\n",
    "\"C'est lui qui permet d'enregistrer le mot de passe.\",\n",
    "\"* Ajoute le paramètre USER au fichier de config.\",\n",
    "\"C'est lui qui permet d'enregistrer le nom d'utilisateur.\"])\n"
   ]
  },
  {
   "cell_type": "code",
   "execution_count": 45,
   "id": "28d22841-289d-49a0-b214-83b3d70c7919",
   "metadata": {},
   "outputs": [
    {
     "name": "stdout",
     "output_type": "stream",
     "text": [
      "[17475, 4846, 67, 80, 2244, 1084, 107, 15650, 107, 359, 149, 82, 123, 218, 24]\n",
      "comment affichers une operation de chargement de configuration ?\n",
      "##r\n"
     ]
    }
   ],
   "source": [
    "encoding = tokenizer.encode(\"* Affiches une opération de chargement de configuration.\")\n",
    "encoding[0] = encoding[1]\n",
    "encoding[1] = 67\n",
    "encoding.insert(0,17475)\n",
    "encoding[len(encoding)-1] = 24\n",
    "print(encoding)\n",
    "print(tokenizer.decode(encoding, True).replace(\" ##\",\"\"))\n",
    "print(tokenizer.decode(encoding[2], True))"
   ]
  },
  {
   "cell_type": "code",
   "execution_count": 51,
   "id": "d48e0555-3568-463f-ba09-edf20127e7dc",
   "metadata": {},
   "outputs": [
    {
     "name": "stdout",
     "output_type": "stream",
     "text": [
      "[1546]\n",
      "qui\n",
      "[4666]\n",
      "que\n",
      "[7031]\n",
      "quand\n",
      "[394]\n",
      "ou\n",
      "[17475]\n",
      "comment\n",
      "[4363, 4745, 84]\n",
      "com ##bie ##n\n",
      "[225, 3729, 983]\n",
      "pour qu ##oi\n",
      "[225, 831, 983]\n",
      "pour ##qu ##oi\n",
      "[4666, 66]\n",
      "que ##l\n"
     ]
    }
   ],
   "source": [
    "tok([\"Qui\",\n",
    "\"Que\",\n",
    "\"Quand\",\n",
    "\"Ou\",\n",
    "\"Comment\",\n",
    "\"Combien\",\n",
    "\"Pour quoi\",\n",
    "\"Pourquoi\",\n",
    "\"Quel\"])"
   ]
  },
  {
   "cell_type": "code",
   "execution_count": 61,
   "id": "864311a8-e220-428d-963f-904951fb78fe",
   "metadata": {},
   "outputs": [
    {
     "name": "stdout",
     "output_type": "stream",
     "text": [
      "[17475, 1995, 67, 993, 8165, 107, 212, 225, 2244, 1084, 107, 15650, 107, 359, 149, 82, 123, 218, 24]\n",
      "comment demander un exemple de code pour une operation de chargement de configuration ?\n",
      "##r\n"
     ]
    }
   ],
   "source": [
    "encoding = tokenizer.encode(\"* Demande un exemple de code pour une opération de chargement de configuration.\")\n",
    "encoding[0] = encoding[1]\n",
    "encoding[1] = 67\n",
    "encoding.insert(0,17475)\n",
    "encoding[len(encoding)-1] = 24\n",
    "print(encoding)\n",
    "print(tokenizer.decode(encoding, True).replace(\" ##\",\"\"))\n",
    "print(tokenizer.decode(encoding[2], True))"
   ]
  },
  {
   "cell_type": "code",
   "execution_count": 60,
   "id": "8670f265-e21c-45d3-b7e2-5f6fc5fc849e",
   "metadata": {},
   "outputs": [
    {
     "name": "stdout",
     "output_type": "stream",
     "text": [
      "[17475, 1995, 67, 993, 8165, 107, 212, 225, 4, 107, 4, 24]\n",
      "comment demander un exemple de code pour de ?\n"
     ]
    }
   ],
   "source": [
    "encoding = tokenizer.encode(\"comment demander un exemple de code pour [MASK] de [MASK] ?\")\n",
    "print(encoding)\n",
    "print(tokenizer.decode(encoding, True).replace(\" ##\",\"\"))"
   ]
  },
  {
   "cell_type": "code",
   "execution_count": 62,
   "id": "b87c91bb-1f54-48c8-bc04-af97ac9e852b",
   "metadata": {},
   "outputs": [
    {
     "name": "stdout",
     "output_type": "stream",
     "text": [
      "[313, 5335, 3976, 291, 398, 508, 2158, 80, 767, 39, 6, 344, 287, 4506, 10]\n",
      "modifi ##ons tes in ##st ##ru ##ction ##s sur l ' affichage des parametres .\n"
     ]
    }
   ],
   "source": [
    "encoding = tokenizer.encode(\"modifions tes instructions sur l'affichage des paramètres.\") # tes / mes\n",
    "print(encoding)\n",
    "print(tokenizer.decode(encoding, True))"
   ]
  },
  {
   "cell_type": "code",
   "execution_count": 64,
   "id": "dfaf1ba9-54c5-402c-b2f8-890e80f62b4a",
   "metadata": {},
   "outputs": [
    {
     "name": "stdout",
     "output_type": "stream",
     "text": [
      "[0, 5191, 22, 23, 13335]\n",
      "cree = > creer\n",
      "[0, 1167, 5335, 22, 23, 13335]\n",
      "cre ##ons = > creer\n",
      "[0, 5191, 91, 22, 23, 13335]\n",
      "cree ##z = > creer\n",
      "[0, 4262, 5335, 5191, 22, 23, 4263, 5191]\n",
      "ay ##ons cree = > avoir cree\n",
      "[0, 4262, 73, 91, 5191, 22, 23, 4263, 5191]\n",
      "ay ##e ##z cree = > avoir cree\n",
      "[0, 8584, 75, 5335, 5191, 80, 22, 23, 5590, 5191]\n",
      "so ##y ##ons cree ##s = > etre cree\n",
      "[0, 8584, 75, 5335, 5191, 186, 22, 23, 5590, 5191]\n",
      "so ##y ##ons cree ##es = > etre cree\n",
      "[0, 8584, 4719, 91, 5191, 80, 22, 23, 5590, 5191]\n",
      "so ##ye ##z cree ##s = > etre cree\n",
      "[0, 8584, 4719, 91, 5191, 186, 22, 23, 5590, 5191]\n",
      "so ##ye ##z cree ##es = > etre cree\n",
      "[0, 28, 214, 5195, 5191, 22, 23, 4263, 5195, 5191]\n",
      "a ##ie ete cree = > avoir ete cree\n",
      "[0, 28, 214, 5195, 5191, 73, 22, 23, 4263, 5195, 5191]\n",
      "a ##ie ete cree ##e = > avoir ete cree\n",
      "[0, 4262, 5335, 5195, 5191, 80, 22, 23, 4263, 5195, 5191]\n",
      "ay ##ons ete cree ##s = > avoir ete cree\n",
      "[0, 4262, 5335, 5195, 5191, 186, 22, 23, 4263, 5195, 5191]\n",
      "ay ##ons ete cree ##es = > avoir ete cree\n",
      "[0, 4262, 73, 91, 5195, 5191, 80, 22, 23, 4263, 5195, 5191]\n",
      "ay ##e ##z ete cree ##s = > avoir ete cree\n",
      "[4262, 73, 91, 5195, 5191, 186, 22, 23, 4263, 5195, 5191]\n",
      "ay ##e ##z ete cree ##es = > avoir ete cree\n"
     ]
    }
   ],
   "source": [
    "tok([\"* crée => créer\",\n",
    "\"* créons => créer\",\n",
    "\"* créez => créer\",\n",
    "\"* ayons créé => avoir créé\",\n",
    "\"* ayez créé => avoir créé\",\n",
    "\"* soyons créés => être créé\",\n",
    "\"* soyons créées => être créé\",\n",
    "\"* soyez créés => être créé\",\n",
    "\"* soyez créées => être créé\",\n",
    "\"* aie été créé => avoir été créé\",\n",
    "\"* aie été créée => avoir été créé\",\n",
    "\"* ayons été créés => avoir été créé\",\n",
    "\"* ayons été créées => avoir été créé\",\n",
    "\"* ayez été créés => avoir été créé\",\n",
    "\" ayez été créées => avoir été créé\"])"
   ]
  },
  {
   "cell_type": "code",
   "execution_count": 31,
   "id": "2948e638-ec59-43ee-b51c-8491fd415a34",
   "metadata": {},
   "outputs": [],
   "source": [
    "code = \"\"\"\n",
    "unit Unit1;\n",
    "\n",
    "interface\n",
    "\n",
    "type\n",
    "  TLPYouSign = class\n",
    "    private\n",
    "      class var instance : TLPYouSign;\n",
    "      constructor Create;\n",
    "    protected\n",
    "      procedure onCreate;\n",
    "    public\n",
    "      class function Get: TLPYouSign;\n",
    "  end;\n",
    "\n",
    "implementation\n",
    "\n",
    "constructor TLPYouSign.Create;\n",
    "begin\n",
    "  // PlaceHolder\n",
    "end;\n",
    "\n",
    "procedure TLPYouSign.onCreate;\n",
    "begin\n",
    "  // TODO: Compléter l'initialisation du Singleton TLPYouSign\n",
    "end;\n",
    "\n",
    "class function TLpYouSign.Get: TLpYouSign;\n",
    "begin\n",
    "  if not Assigned(instance) then\n",
    "  begin\n",
    "    Instance := TLpYouSign.Create;\n",
    "    Instance.onCreate;\n",
    "  end;\n",
    "  Result := Instance;\n",
    "end;\n",
    "\n",
    "end.\n",
    "\"\"\""
   ]
  },
  {
   "cell_type": "code",
   "execution_count": null,
   "id": "7e798237-e6ff-42b2-9c3e-444b07861222",
   "metadata": {},
   "outputs": [],
   "source": []
  },
  {
   "cell_type": "code",
   "execution_count": 33,
   "id": "a8744383-9018-48a0-9e50-f175f897b19a",
   "metadata": {},
   "outputs": [
    {
     "name": "stdout",
     "output_type": "stream",
     "text": [
      "[1796, 1796, 78, 0, 5668, 265, 47, 327, 75, 1172, 942, 84, 22, 5188, 461, 739, 271, 111, 5188, 461, 6144, 67, 4839, 0, 47, 327, 75, 1172, 942, 84, 0, 10574, 508, 396, 129, 1167, 135, 0, 501, 111, 6178, 77, 501, 155, 1148, 3964, 3190, 135, 0, 8047, 5188, 461, 33, 5321, 2158, 34, 543, 0, 47, 327, 75, 1172, 942, 84, 0, 249, 77, 0, 284, 735, 218, 10574, 508, 396, 129, 47, 327, 75, 1172, 942, 84, 10, 1167, 135, 0, 29, 73, 82, 128, 0, 0, 3965, 88, 900, 67, 249, 77, 0, 501, 155, 1148, 47, 327, 75, 1172, 942, 84, 10, 3964, 3190, 135, 0, 29, 73, 82, 128, 0, 0, 3185, 4725, 0, 6579, 126, 39, 6, 3322, 1371, 215, 1169, 6309, 296, 84, 47, 327, 75, 1172, 942, 84, 249, 77, 0, 5188, 461, 33, 5321, 2158, 47, 327, 75, 1172, 942, 84, 10, 34, 543, 0, 47, 327, 75, 1172, 942, 84, 0, 29, 73, 82, 128, 36, 62, 8553, 581, 942, 216, 77, 7, 4839, 8, 3977, 84, 29, 73, 82, 128, 4839, 0, 22, 47, 327, 75, 1172, 942, 84, 10, 1167, 135, 0, 4839, 10, 3964, 3190, 135, 0, 249, 77, 0, 918, 361, 56, 0, 22, 4839, 0, 249, 77, 0, 249, 77, 10]\n",
      "unit unit ##1 interface type t ##lp ##y ##ous ##ig ##n = cl ##ass pri ##va ##te cl ##ass va ##r instance t ##lp ##y ##ous ##ig ##n const ##ru ##ct ##or cre ##ate pro ##te ##cte ##d pro ##ce ##dure on ##cre ##ate public cl ##ass f ##un ##ction g ##et t ##lp ##y ##ous ##ig ##n en ##d imp ##lement ##ation const ##ru ##ct ##or t ##lp ##y ##ous ##ig ##n . cre ##ate b ##e ##g ##in place ##h ##olde ##r en ##d pro ##ce ##dure t ##lp ##y ##ous ##ig ##n . on ##cre ##ate b ##e ##g ##in to ##do complet ##er l ' initial ##isation du sin ##gle ##to ##n t ##lp ##y ##ous ##ig ##n en ##d cl ##ass f ##un ##ction t ##lp ##y ##ous ##ig ##n . g ##et t ##lp ##y ##ous ##ig ##n b ##e ##g ##in i ##f not ass ##ig ##ne ##d ( instance ) the ##n b ##e ##g ##in instance = t ##lp ##y ##ous ##ig ##n . cre ##ate instance . on ##cre ##ate en ##d res ##ul ##t = instance en ##d en ##d .\n"
     ]
    }
   ],
   "source": [
    "encoding = tokenizer.encode(code)\n",
    "print(encoding)\n",
    "print(tokenizer.decode(encoding, True))"
   ]
  },
  {
   "cell_type": "code",
   "execution_count": 50,
   "id": "170cc7d2-02fd-45f4-8555-ce583a707109",
   "metadata": {},
   "outputs": [
    {
     "name": "stdout",
     "output_type": "stream",
     "text": [
      "[467, 2440, 2796, 107, 422, 3704, 170, 3731, 59, 1738, 65, 566]\n",
      "le lan ##gage de dev ##eloppe ##ment ser ##a del ##p ##hi\n"
     ]
    }
   ],
   "source": [
    "encoding = tokenizer.encode(\"le langage de développement sera delphi\")\n",
    "print(encoding)\n",
    "print(tokenizer.decode(encoding, True))"
   ]
  },
  {
   "cell_type": "code",
   "execution_count": 16,
   "id": "e53b2e61-949f-4801-a8a5-b7bfb0c0f354",
   "metadata": {},
   "outputs": [],
   "source": [
    "t2 = PreTrainedTokenizerFast(tokenizer_file=\"Premier/tokenizer.json\")"
   ]
  },
  {
   "cell_type": "code",
   "execution_count": 17,
   "id": "c35d4621-c026-45f7-af96-1528208deec4",
   "metadata": {},
   "outputs": [
    {
     "name": "stdout",
     "output_type": "stream",
     "text": [
      "[1241, 174, 90, 509, 229, 178, 1213, 1235, 302, 1155, 16]\n",
      "donne mo ##i la liste des commandes fournisseurs en cours .\n"
     ]
    }
   ],
   "source": [
    "encoding = t2.encode(\"donne moi la liste des commandes fournisseurs en cours.\")\n",
    "print(encoding)\n",
    "print(t2.decode(encoding, True))"
   ]
  },
  {
   "cell_type": "code",
   "execution_count": 24,
   "id": "1bcf75ab-7102-4dc9-b193-330fdd3c1b1b",
   "metadata": {},
   "outputs": [
    {
     "name": "stdout",
     "output_type": "stream",
     "text": [
      "[45, 77, 5415, 4178, 318, 5805, 904, 9078, 3021, 4105, 3793, 509, 229, 178, 1235, 1205, 301, 930, 1241, 16]\n",
      "j ##e vou ##dr ##ais creer une requete qui afficher ##ait la liste des fournisseurs sur un mois donne .\n"
     ]
    }
   ],
   "source": [
    "encoding = t2.encode(\"Je voudrais créer une requête qui afficherait la liste des fournisseurs sur un mois donné.\")\n",
    "print(encoding)\n",
    "print(t2.decode(encoding, True))"
   ]
  },
  {
   "cell_type": "code",
   "execution_count": 26,
   "id": "9e889fd2-de9f-4906-9a45-76e53f6a802a",
   "metadata": {},
   "outputs": [
    {
     "name": "stdout",
     "output_type": "stream",
     "text": [
      "[1507]\n",
      "f350ky\n"
     ]
    }
   ],
   "source": [
    "encoding = t2.encode(\"F350KY\")\n",
    "print(encoding)\n",
    "print(t2.decode(encoding, True))"
   ]
  },
  {
   "cell_type": "code",
   "execution_count": 28,
   "id": "9a4dd044-c118-40b0-b6f4-d25f50bd1ccd",
   "metadata": {},
   "outputs": [
    {
     "name": "stdout",
     "output_type": "stream",
     "text": [
      "[45, 77, 5415, 4178, 318, 5805, 904, 9078, 5259, 3793, 14, 4105, 3793, 14, 8105, 318, 598, 302, 370, 8322, 3793, 509, 229, 178, 1235, 1205, 301, 930, 1241, 16]\n",
      "j ##e vou ##dr ##ais creer une requete ajouter ##ait , afficher ##ait , modifier ##ais et en ##fin supprimer ##ait la liste des fournisseurs sur un mois donne .\n"
     ]
    }
   ],
   "source": [
    "encoding = t2.encode(\"Je voudrais créer une requête ajouterait, afficherait, modifierais et enfin supprimerait la liste des fournisseurs sur un mois donné.\")\n",
    "print(encoding)\n",
    "print(t2.decode(encoding, True))"
   ]
  },
  {
   "cell_type": "code",
   "execution_count": null,
   "id": "0bf38888-c42d-480f-bce3-03193dd48d51",
   "metadata": {},
   "outputs": [],
   "source": []
  }
 ],
 "metadata": {
  "kernelspec": {
   "display_name": "Python 3 (ipykernel)",
   "language": "python",
   "name": "python3"
  },
  "language_info": {
   "codemirror_mode": {
    "name": "ipython",
    "version": 3
   },
   "file_extension": ".py",
   "mimetype": "text/x-python",
   "name": "python",
   "nbconvert_exporter": "python",
   "pygments_lexer": "ipython3",
   "version": "3.10.13"
  }
 },
 "nbformat": 4,
 "nbformat_minor": 5
}
