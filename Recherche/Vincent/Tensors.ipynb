{
 "cells": [
  {
   "cell_type": "code",
   "execution_count": 1,
   "id": "ee10febc-b9ad-4118-acb7-de4e626d467a",
   "metadata": {},
   "outputs": [],
   "source": [
    "import torch"
   ]
  },
  {
   "cell_type": "code",
   "execution_count": 2,
   "id": "0ad3e94c-03c4-43f0-ba44-87e734c418f4",
   "metadata": {},
   "outputs": [
    {
     "name": "stdout",
     "output_type": "stream",
     "text": [
      "tensor([[0., 0., 0.],\n",
      "        [0., 0., 0.],\n",
      "        [0., 0., 0.],\n",
      "        [0., 0., 0.],\n",
      "        [0., 0., 0.]])\n",
      "torch.float32\n"
     ]
    }
   ],
   "source": [
    "z = torch.zeros(5,3)\n",
    "print(z)\n",
    "print(z.dtype)"
   ]
  },
  {
   "cell_type": "code",
   "execution_count": 3,
   "id": "a6441fbc-2531-44de-96a4-9272fa69d5a8",
   "metadata": {},
   "outputs": [
    {
     "name": "stdout",
     "output_type": "stream",
     "text": [
      "tensor([[1, 1, 1],\n",
      "        [1, 1, 1],\n",
      "        [1, 1, 1],\n",
      "        [1, 1, 1],\n",
      "        [1, 1, 1]], dtype=torch.int16)\n",
      "torch.int16\n"
     ]
    }
   ],
   "source": [
    "i = torch.ones((5,3),dtype = torch.int16)\n",
    "print(i)\n",
    "print(i.dtype)"
   ]
  },
  {
   "cell_type": "code",
   "execution_count": 5,
   "id": "597f7565-51c2-4fb8-bfdd-de46c904a9ce",
   "metadata": {},
   "outputs": [
    {
     "name": "stdout",
     "output_type": "stream",
     "text": [
      "tensor([[1., 1., 1.],\n",
      "        [1., 1., 1.],\n",
      "        [1., 1., 1.],\n",
      "        [1., 1., 1.],\n",
      "        [1., 1., 1.]])\n",
      "tensor([[2., 2., 2.],\n",
      "        [2., 2., 2.],\n",
      "        [2., 2., 2.],\n",
      "        [2., 2., 2.],\n",
      "        [2., 2., 2.]])\n",
      "tensor([[3., 3., 3.],\n",
      "        [3., 3., 3.],\n",
      "        [3., 3., 3.],\n",
      "        [3., 3., 3.],\n",
      "        [3., 3., 3.]])\n",
      "torch.Size([5, 3])\n"
     ]
    }
   ],
   "source": [
    "ones = torch.ones(5,3)\n",
    "print(ones)\n",
    "\n",
    "twos = torch.ones(5,3) * 2\n",
    "print(twos)\n",
    "\n",
    "print(ones+twos)\n",
    "print(twos.shape)"
   ]
  },
  {
   "cell_type": "code",
   "execution_count": 47,
   "id": "3d6f899d-2912-441b-a642-33dbc59b97c3",
   "metadata": {},
   "outputs": [
    {
     "name": "stdout",
     "output_type": "stream",
     "text": [
      "tensor([[ 0.7061, -0.6323, -0.3713],\n",
      "        [-0.3184, -0.7358,  0.5299],\n",
      "        [ 0.8270,  0.9667,  0.3733]])\n"
     ]
    }
   ],
   "source": [
    "r=(torch.rand(3,3)-0.5) *2\n",
    "print(r)"
   ]
  },
  {
   "cell_type": "code",
   "execution_count": 48,
   "id": "79814642-11c5-4c75-9307-a2b5be2b860f",
   "metadata": {},
   "outputs": [
    {
     "name": "stdout",
     "output_type": "stream",
     "text": [
      "tensor([[0.7061, 0.6323, 0.3713],\n",
      "        [0.3184, 0.7358, 0.5299],\n",
      "        [0.8270, 0.9667, 0.3733]])\n"
     ]
    }
   ],
   "source": [
    "print(torch.abs(r))"
   ]
  },
  {
   "cell_type": "code",
   "execution_count": 49,
   "id": "0beee52e-4739-425b-86e2-10055b0cac4d",
   "metadata": {},
   "outputs": [
    {
     "name": "stdout",
     "output_type": "stream",
     "text": [
      "tensor([[ 0.7839, -0.6846, -0.3804],\n",
      "        [-0.3241, -0.8269,  0.5585],\n",
      "        [ 0.9737,  1.3121,  0.3826]])\n"
     ]
    }
   ],
   "source": [
    "print(torch.asin(r))"
   ]
  },
  {
   "cell_type": "code",
   "execution_count": 50,
   "id": "20ef7ef2-fa10-43a6-ac75-2efe0fc3fc07",
   "metadata": {},
   "outputs": [
    {
     "name": "stdout",
     "output_type": "stream",
     "text": [
      "tensor(-1.0196)\n"
     ]
    }
   ],
   "source": [
    "print(torch.det(r))"
   ]
  },
  {
   "cell_type": "code",
   "execution_count": 51,
   "id": "500be51e-4ac0-4d58-aee8-bd9c34317826",
   "metadata": {},
   "outputs": [
    {
     "name": "stdout",
     "output_type": "stream",
     "text": [
      "torch.return_types.svd(\n",
      "U=tensor([[ 0.1353, -0.9872,  0.0840],\n",
      "        [ 0.5055,  0.1417,  0.8511],\n",
      "        [-0.8522, -0.0727,  0.5182]]),\n",
      "S=tensor([1.4983, 1.0088, 0.6745]),\n",
      "V=tensor([[-0.5140, -0.7953,  0.3215],\n",
      "        [-0.8552,  0.4458, -0.2646],\n",
      "        [-0.0671,  0.4109,  0.9092]]))\n"
     ]
    }
   ],
   "source": [
    "print(torch.svd(r))"
   ]
  },
  {
   "cell_type": "code",
   "execution_count": 52,
   "id": "051e2a89-f9ba-4762-a7ad-25011b871b4d",
   "metadata": {},
   "outputs": [
    {
     "name": "stdout",
     "output_type": "stream",
     "text": [
      "(tensor(0.6630), tensor(0.1495))\n"
     ]
    }
   ],
   "source": [
    "print(torch.std_mean(r))"
   ]
  },
  {
   "cell_type": "code",
   "execution_count": 53,
   "id": "4bc9bf31-cb21-4cf3-9269-8b1db4dc889d",
   "metadata": {},
   "outputs": [
    {
     "name": "stdout",
     "output_type": "stream",
     "text": [
      "tensor(0.9667)\n"
     ]
    }
   ],
   "source": [
    "print(torch.max(r))"
   ]
  },
  {
   "cell_type": "code",
   "execution_count": 54,
   "id": "8c238d64-3984-4209-9640-805d17dc895d",
   "metadata": {},
   "outputs": [
    {
     "name": "stdout",
     "output_type": "stream",
     "text": [
      "tensor(1.3451)\n"
     ]
    }
   ],
   "source": [
    "print(torch.sum(r))"
   ]
  },
  {
   "cell_type": "code",
   "execution_count": 55,
   "id": "87e71b10-31fa-4ee5-ae88-8095b5f152cc",
   "metadata": {},
   "outputs": [
    {
     "data": {
      "text/plain": [
       "tensor([ 0.7061, -0.6323, -0.3713])"
      ]
     },
     "execution_count": 55,
     "metadata": {},
     "output_type": "execute_result"
    }
   ],
   "source": [
    "r[0]"
   ]
  },
  {
   "cell_type": "code",
   "execution_count": 57,
   "id": "4f07b4d8-8026-47e7-af6e-99480310652e",
   "metadata": {},
   "outputs": [
    {
     "name": "stdout",
     "output_type": "stream",
     "text": [
      "tensor(-0.2976)\n",
      "tensor(-0.5243)\n",
      "tensor(2.1670)\n",
      "tensor(1.3451)\n"
     ]
    }
   ],
   "source": [
    "print(torch.sum(r[0]))\n",
    "print(torch.sum(r[1]))\n",
    "print(torch.sum(r[2]))\n",
    "print(torch.sum(r))"
   ]
  },
  {
   "cell_type": "code",
   "execution_count": 61,
   "id": "fc09216a-e899-48a3-964f-87459ecc4222",
   "metadata": {},
   "outputs": [
    {
     "data": {
      "text/plain": [
       "tensor([[0, 0, 0,  ..., 0, 0, 0],\n",
       "        [0, 0, 0,  ..., 0, 0, 0],\n",
       "        [0, 0, 0,  ..., 0, 0, 0],\n",
       "        ...,\n",
       "        [0, 0, 0,  ..., 0, 0, 0],\n",
       "        [0, 0, 0,  ..., 0, 0, 0],\n",
       "        [0, 0, 0,  ..., 0, 0, 0]], dtype=torch.int8)"
      ]
     },
     "execution_count": 61,
     "metadata": {},
     "output_type": "execute_result"
    }
   ],
   "source": [
    "sgbd = torch.zeros((500,500), dtype=torch.int8)\n",
    "sgbd"
   ]
  },
  {
   "cell_type": "code",
   "execution_count": 66,
   "id": "f3c6e3d3-4bc9-4aa8-820a-e883e472cfe1",
   "metadata": {},
   "outputs": [
    {
     "name": "stdout",
     "output_type": "stream",
     "text": [
      "tensor([0, 1, 0, 0, 0, 0, 0, 0, 0, 0, 0, 0, 0, 0, 0, 0, 0, 0, 0, 0, 0, 0, 0, 0,\n",
      "        0, 0, 0, 0, 0, 0, 0, 0, 0, 0, 0, 0, 0, 0, 0, 0, 0, 0, 0, 0, 0, 0, 0, 0,\n",
      "        0, 0, 0, 0, 0, 0, 0, 0, 0, 0, 0, 0, 0, 0, 0, 0, 0, 0, 0, 0, 0, 0, 0, 0,\n",
      "        0, 0, 0, 0, 0, 0, 0, 0, 0, 0, 0, 0, 0, 0, 0, 0, 0, 0, 0, 0, 0, 0, 0, 0,\n",
      "        0, 0, 0, 0, 0, 0, 0, 0, 0, 0, 0, 0, 0, 0, 0, 0, 0, 0, 0, 0, 0, 0, 0, 0,\n",
      "        0, 0, 0, 0, 0, 0, 0, 0, 0, 0, 0, 0, 0, 0, 0, 0, 0, 0, 0, 0, 0, 0, 0, 0,\n",
      "        0, 0, 0, 0, 0, 0, 0, 0, 0, 0, 0, 0, 0, 0, 0, 0, 0, 0, 0, 0, 0, 0, 0, 0,\n",
      "        0, 0, 0, 0, 0, 0, 0, 0, 0, 0, 0, 0, 0, 0, 0, 0, 0, 0, 0, 0, 0, 0, 0, 0,\n",
      "        0, 0, 0, 0, 0, 0, 0, 0, 0, 0, 0, 0, 0, 0, 0, 0, 0, 0, 0, 0, 0, 0, 0, 0,\n",
      "        0, 0, 0, 0, 0, 0, 0, 0, 0, 0, 0, 0, 0, 0, 0, 0, 0, 0, 0, 0, 0, 0, 0, 0,\n",
      "        0, 0, 0, 0, 0, 0, 0, 0, 0, 0, 0, 0, 0, 0, 0, 0, 0, 0, 0, 0, 0, 0, 0, 0,\n",
      "        0, 0, 0, 0, 0, 0, 0, 0, 0, 0, 0, 0, 0, 0, 0, 0, 0, 0, 0, 0, 0, 0, 0, 0,\n",
      "        0, 0, 0, 0, 0, 0, 0, 0, 0, 0, 0, 0, 0, 0, 0, 0, 0, 0, 0, 0, 0, 0, 0, 0,\n",
      "        0, 0, 0, 0, 0, 0, 0, 0, 0, 0, 0, 0, 0, 0, 0, 0, 0, 0, 0, 0, 0, 0, 0, 0,\n",
      "        0, 0, 0, 0, 0, 0, 0, 0, 0, 0, 0, 0, 0, 0, 0, 0, 0, 0, 0, 0, 0, 0, 0, 0,\n",
      "        0, 0, 0, 0, 0, 0, 0, 0, 0, 0, 0, 0, 0, 0, 0, 0, 0, 0, 0, 0, 0, 0, 0, 0,\n",
      "        0, 0, 0, 0, 0, 0, 0, 0, 0, 0, 0, 0, 0, 0, 0, 0, 0, 0, 0, 0, 0, 0, 0, 0,\n",
      "        0, 0, 0, 0, 0, 0, 0, 0, 0, 0, 0, 0, 0, 0, 0, 0, 0, 0, 0, 0, 0, 0, 0, 0,\n",
      "        0, 0, 0, 0, 0, 0, 0, 0, 0, 0, 0, 0, 0, 0, 0, 0, 0, 0, 0, 0, 0, 0, 0, 0,\n",
      "        0, 0, 0, 0, 0, 0, 0, 0, 0, 0, 0, 0, 0, 0, 0, 0, 0, 0, 0, 0, 0, 0, 0, 0,\n",
      "        0, 0, 0, 0, 0, 0, 0, 0, 0, 0, 0, 0, 0, 0, 0, 0, 0, 0, 0, 0],\n",
      "       dtype=torch.int8)\n"
     ]
    }
   ],
   "source": [
    "sgbd[0][1] = 1\n",
    "sgbd[1][0] = 1\n",
    "sgbd[1][2] = 1\n",
    "print(sgbd[0])"
   ]
  },
  {
   "cell_type": "code",
   "execution_count": null,
   "id": "f4d406af-3b3f-43b8-97b2-15b5d16bf026",
   "metadata": {},
   "outputs": [],
   "source": []
  }
 ],
 "metadata": {
  "kernelspec": {
   "display_name": "Python 3 (ipykernel)",
   "language": "python",
   "name": "python3"
  },
  "language_info": {
   "codemirror_mode": {
    "name": "ipython",
    "version": 3
   },
   "file_extension": ".py",
   "mimetype": "text/x-python",
   "name": "python",
   "nbconvert_exporter": "python",
   "pygments_lexer": "ipython3",
   "version": "3.10.13"
  }
 },
 "nbformat": 4,
 "nbformat_minor": 5
}
