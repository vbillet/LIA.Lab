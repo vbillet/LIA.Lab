{
 "cells": [
  {
   "cell_type": "code",
   "execution_count": 1,
   "id": "f1f92b54-cb76-4b6a-9432-3c5aea4f15b6",
   "metadata": {},
   "outputs": [],
   "source": [
    "from transformers import AutoTokenizer\n",
    "cp = \"Tables\"\n",
    "tok = AutoTokenizer.from_pretrained(cp)"
   ]
  },
  {
   "cell_type": "code",
   "execution_count": 2,
   "id": "e6995fe2-5a3a-4a95-b673-a28b9c16ff6a",
   "metadata": {},
   "outputs": [],
   "source": [
    "class searchResult:\n",
    "    def __init__(self):\n",
    "        self.start = 0\n",
    "        self.end = 0\n",
    "        self.txt = ''\n",
    "        self.extract = ''"
   ]
  },
  {
   "cell_type": "code",
   "execution_count": 104,
   "id": "a3bed5c0-3123-487f-acaa-08341b261597",
   "metadata": {},
   "outputs": [],
   "source": [
    "class NLPInvoker:\n",
    "    def __init__(self):\n",
    "        self.gCmds = []\n",
    "        \n",
    "    def split4(self,inputs):\n",
    "        result = []\n",
    "        current = []\n",
    "        a = inputs[0][1:]\n",
    "        for e in a:\n",
    "            if e != 4 : \n",
    "                current.append(e)\n",
    "            else:\n",
    "                result.append(current)\n",
    "                current = []\n",
    "        result.append(current)\n",
    "        return result\n",
    "        \n",
    "    def _search(self,inputs,splits,idx):\n",
    "        result = []\n",
    "        current = []\n",
    "        deb = -1\n",
    "        fin = -1\n",
    "        i = 0\n",
    "        cnt = 0\n",
    "        cntLoss = 0\n",
    "        # print(inputs)\n",
    "        toSearch = splits[idx]\n",
    "        # print(toSearch)\n",
    "        b = inputs[1]\n",
    "        for e in b:\n",
    "            # print(e,cnt)\n",
    "            if deb == -1 :\n",
    "                if e==toSearch[cnt]:\n",
    "                    cnt = cnt + 1\n",
    "                    deb = i\n",
    "                    cntLoss = 0 \n",
    "                    if len(toSearch) == 1:\n",
    "                        fin = i+1\n",
    "                        cnt = 0\n",
    "                        cntLoss = 0\n",
    "                        #print(\"found\")\n",
    "                        break\n",
    "            else:\n",
    "                if e==toSearch[cnt]:\n",
    "                    cnt = cnt + 1\n",
    "                    cntLoss = 0 \n",
    "                    if cnt ==len(toSearch):\n",
    "                        fin = i+1\n",
    "                        #print(\"found\")\n",
    "                        break\n",
    "                else:\n",
    "                    cntLoss = cntLoss + 1\n",
    "                    if cntLoss>2:\n",
    "                        deb = -1\n",
    "                        cnt = 0\n",
    "            i = i +1\n",
    "        return [deb,fin]\n",
    "    \n",
    "    def search(self,inputs):\n",
    "        #print(inputs)\n",
    "        split = self.split4(inputs)\n",
    "        result = []\n",
    "        first = True\n",
    "        for i in range(len(split)):\n",
    "            lst = self._search(inputs,split,i)\n",
    "            if i != len(split)-1:\n",
    "                result.append(searchResult())\n",
    "                result[i].start = lst[1]\n",
    "            if i !=0:\n",
    "                result[i-1].end = lst[0]\n",
    "        for i in range(len(split)-1):\n",
    "            result[i].extract = tok.decode(inputs[1][result[i].start:result[i].end]).replace(\" ##\",\"\")\n",
    "            result[i].txt = tok.decode(split[i]).replace(\" ##\",\"\")\n",
    "    \n",
    "        found = True\n",
    "        for r in result:\n",
    "            if r.start == -1:\n",
    "                found = False\n",
    "                break\n",
    "            if r.end == -1:\n",
    "                found = False\n",
    "                break\n",
    "           \n",
    "        return found, result   \n",
    "    \n",
    "    def addCmd(self, nomCommande, question, where, params):\n",
    "        self.gCmds.append([where,nomCommande,tok(question.replace(\"?\",\"[SEP]\")).input_ids[1:], params])\n",
    "        print(tok.decode(tok(question).input_ids[1:]))\n",
    "    \n",
    "    def Comment(self,Ordre):\n",
    "        encoding = tok.encode(Ordre)\n",
    "        #print(encoding)\n",
    "        #print(tok.decode(encoding, True))\n",
    "        encoding[0] = encoding[1]\n",
    "        encoding[1] = 67\n",
    "        encoding.insert(0,17475)\n",
    "        encoding[len(encoding)-1] = 3\n",
    "        if (171 in encoding):\n",
    "            encoding.remove(171)\n",
    "        #print(encoding)\n",
    "        return tok.decode(encoding, True).replace(\" ##\",\"\").replace(\" ' \",\"'\")\n",
    "\n",
    "    def execute(self,ordre):\n",
    "        how = self.Comment(ordre)+\" [SEP]\"\n",
    "        print(how)\n",
    "        for c in self.gCmds:\n",
    "            #print(c[2])\n",
    "            f,res = self.search([c[2],tok(how).input_ids])\n",
    "            if f:\n",
    "                ch = \"\"\n",
    "                for r in res:\n",
    "                    ch = ch + \", \"+ r.extract\n",
    "                print(\"=>\", ch )\n",
    "                \n",
    "                return c,res\n",
    "\n",
    "        return how.replace(\"[SEP]\",\"?\")"
   ]
  },
  {
   "cell_type": "code",
   "execution_count": 105,
   "id": "24d088d0-3d2c-452e-87ad-05abf733cda6",
   "metadata": {},
   "outputs": [
    {
     "data": {
      "text/plain": [
       "[]"
      ]
     },
     "execution_count": 105,
     "metadata": {},
     "output_type": "execute_result"
    }
   ],
   "source": [
    "lia = NLPInvoker()\n",
    "#lia.addCmd(\"constantes\", \"NewTemplate\", \"appliquer le template suivant [MASK] [SEP]\", \"general\")\n",
    "#lia.addCmd(\"constantes\", \"explain\", \"donner comme explication [MASK] [SEP]\", \"general\")\n",
    "#lia.addCmd(\"constantes\", \"code\", \"appliquer le template [MASK] [SEP].\",\"applyTemplate\")\n",
    "#lia.addCmd(\"constantes\", \"code\", \"ajouter la constante [MASK] ayant pour valeur [MASK] [SEP]\", \"addConst\")\n",
    "#lia.addCmd(\"constantes\", \"code\", \"ajouter la propriété [MASK] de type [MASK] [SEP]\", \"addprop\")\n",
    "#lia.addCmd(\"constantes\", \"code\", \"créer une unité ayant pour nom [MASK] [SEP]\", \"createUnit\")\n",
    "lia.gCmds"
   ]
  },
  {
   "cell_type": "code",
   "execution_count": 106,
   "id": "abfee24e-730e-47d1-b8c3-fcb07ee74aad",
   "metadata": {},
   "outputs": [
    {
     "name": "stdout",
     "output_type": "stream",
     "text": [
      "Comment créer une unité ayant pour nom [MASK] ?\n",
      "creer une unite ayant pour nom [MASK] ?\n",
      "Comment ajouter une constante [MASK] ayant pour valeur [MASK] ?\n",
      "ajoute ##r une constant ##e [MASK] ayant pour valeur [MASK] ?\n",
      "Comment ajouter une classe [MASK] ?\n",
      "ajoute ##r une classe [MASK] ?\n",
      "Comment ajouter une procédure [MASK] ?\n",
      "ajoute ##r une pro ##ce ##dure [MASK] ?\n",
      "Comment ajouter une fonction [MASK] qui retourne [MASK] ?\n",
      "ajoute ##r une fonction [MASK] qui retour ##ne [MASK] ?\n"
     ]
    }
   ],
   "source": [
    "import yaml,sys\n",
    "d=yaml.safe_load(open('Templates/Delphi.yaml', 'r'))\n",
    "\n",
    "for c in d[\"Commands\"]:\n",
    "    e = c[\"Command\"]\n",
    "    print(e[\"Question\"])\n",
    "    lia.addCmd(\"code\", e[\"Question\"], e[\"Ou\"], e)\n"
   ]
  },
  {
   "cell_type": "code",
   "execution_count": 107,
   "id": "851299ce-a9d6-4779-985f-fd408f68aaab",
   "metadata": {},
   "outputs": [],
   "source": [
    "#lia.gCmds"
   ]
  },
  {
   "cell_type": "code",
   "execution_count": 108,
   "id": "e49aec68-7244-40cc-8acd-8313297d8116",
   "metadata": {},
   "outputs": [
    {
     "name": "stdout",
     "output_type": "stream",
     "text": [
      "comment donner comme explication que tu es la pour aider au codage d'une dll d'api rest [SEP]\n",
      " LIA > comment donner comme explication que tu es la pour aider au codage d'une dll d'api rest ?\n"
     ]
    },
    {
     "name": "stdin",
     "output_type": "stream",
     "text": [
      "USER > je voudrais ajouter une procédedure toto.pas.\n"
     ]
    },
    {
     "name": "stdout",
     "output_type": "stream",
     "text": [
      "comment jer voudrais ajouter une procededure toto . pas [SEP]\n",
      "=> , toto . pas\n",
      " LIA > (['implementation', 'code', [17156, 67, 2244, 501, 155, 1148, 4, 3], {'Name': 'addProcedure', 'Question': 'Comment ajouter une procédure [MASK] ?', 'Params': [{'Param': {'Nom': 'NomProcedure', 'Libelle': 'nom de la procedure', 'Traitements': 'Variabilize', 'Questions': ['Quel est le nom de la procedure ?']}}], 'Ou': 'implementation', 'Pourquoi': \"Permet d'effectuer une liste de traitements.\", 'Template': 'procedure §NomProcedure§([Parametres]); const [Constantes] var [variables] begin [instructions] end;'}], [<__main__.searchResult object at 0x7f1c93319b70>])\n"
     ]
    },
    {
     "name": "stdin",
     "output_type": "stream",
     "text": [
      "USER > ajouter une procedure toto.pas\n"
     ]
    },
    {
     "name": "stdout",
     "output_type": "stream",
     "text": [
      "comment ajouterr une procedure toto . [SEP]\n",
      "=> , toto .\n",
      " LIA > (['implementation', 'code', [17156, 67, 2244, 501, 155, 1148, 4, 3], {'Name': 'addProcedure', 'Question': 'Comment ajouter une procédure [MASK] ?', 'Params': [{'Param': {'Nom': 'NomProcedure', 'Libelle': 'nom de la procedure', 'Traitements': 'Variabilize', 'Questions': ['Quel est le nom de la procedure ?']}}], 'Ou': 'implementation', 'Pourquoi': \"Permet d'effectuer une liste de traitements.\", 'Template': 'procedure §NomProcedure§([Parametres]); const [Constantes] var [variables] begin [instructions] end;'}], [<__main__.searchResult object at 0x7f1c9335b550>])\n"
     ]
    },
    {
     "name": "stdin",
     "output_type": "stream",
     "text": [
      "USER > je vourdrais créer une unité ayant pour nom toto.pas.\n"
     ]
    },
    {
     "name": "stdout",
     "output_type": "stream",
     "text": [
      "comment jer vourdrais creer une unite ayant pour nom toto . pas [SEP]\n",
      "=> , toto . pas\n",
      " LIA > (['Contenu', 'code', [13335, 2244, 1797, 4618, 225, 455, 4, 3], {'Name': 'addUnit', 'Question': 'Comment créer une unité ayant pour nom [MASK] ?', 'Params': [{'Param': {'Nom': 'NomUnite', 'Libelle': \"nom de l'unité\", 'Traitements': 'Variabilize', 'Questions': [\"Quel est le nom de l'unité ?\"]}}], 'Ou': 'Contenu', 'Pourquoi': 'Pour contenir le code source.', 'Template': 'Unit §NomUnite§\\ninterface\\nuses [UsesListInt]\\nconst [ConstList]\\ntype [TypeList]\\nvar [GlobalVarList]\\nimplementation\\nuses [UsesListImp]\\n[Implementation]\\nend.'}], [<__main__.searchResult object at 0x7f1c9335b550>])\n"
     ]
    },
    {
     "name": "stdin",
     "output_type": "stream",
     "text": [
      "USER > je voudrais ajouter une procédure toto.pas.\n"
     ]
    },
    {
     "name": "stdout",
     "output_type": "stream",
     "text": [
      "comment jer voudrais ajouter une procedure toto . pas [SEP]\n",
      "=> , toto . pas\n",
      " LIA > (['implementation', 'code', [17156, 67, 2244, 501, 155, 1148, 4, 3], {'Name': 'addProcedure', 'Question': 'Comment ajouter une procédure [MASK] ?', 'Params': [{'Param': {'Nom': 'NomProcedure', 'Libelle': 'nom de la procedure', 'Traitements': 'Variabilize', 'Questions': ['Quel est le nom de la procedure ?']}}], 'Ou': 'implementation', 'Pourquoi': \"Permet d'effectuer une liste de traitements.\", 'Template': 'procedure §NomProcedure§([Parametres]); const [Constantes] var [variables] begin [instructions] end;'}], [<__main__.searchResult object at 0x7f1c93319b70>])\n"
     ]
    },
    {
     "name": "stdin",
     "output_type": "stream",
     "text": [
      "USER > end\n"
     ]
    }
   ],
   "source": [
    "input1=\"donne comme explication que tu es la pour aider au codage d'une dll d'api rest.\"\n",
    "while input1 != \"end\":\n",
    "    print(\" LIA >\",lia.execute(\"* \"+input1))\n",
    "    input1 = input(\"USER >\")"
   ]
  },
  {
   "cell_type": "code",
   "execution_count": 103,
   "id": "20e11884-e8c2-4c59-ac61-3fda7dcaf105",
   "metadata": {},
   "outputs": [
    {
     "name": "stdout",
     "output_type": "stream",
     "text": [
      "comment vourdrais ajouter la constante nom d'utiliseur ayant pour valeur toto [SEP]\n"
     ]
    },
    {
     "data": {
      "text/plain": [
       "\"comment vourdrais ajouter la constante nom d'utiliseur ayant pour valeur toto ?\""
      ]
     },
     "execution_count": 103,
     "metadata": {},
     "output_type": "execute_result"
    }
   ],
   "source": [
    "lia.execute(\"je voudrais ajouter la constante Nom d'utiliseur ayant pour valeur toto [SEP]\")"
   ]
  },
  {
   "cell_type": "code",
   "execution_count": 19,
   "id": "8a110d4b-e3b7-4a14-aa9c-6792031f20fa",
   "metadata": {},
   "outputs": [
    {
     "ename": "IndexError",
     "evalue": "list index out of range",
     "output_type": "error",
     "traceback": [
      "\u001b[0;31m---------------------------------------------------------------------------\u001b[0m",
      "\u001b[0;31mIndexError\u001b[0m                                Traceback (most recent call last)",
      "Cell \u001b[0;32mIn[19], line 1\u001b[0m\n\u001b[0;32m----> 1\u001b[0m \u001b[43mlia\u001b[49m\u001b[38;5;241;43m.\u001b[39;49m\u001b[43mexecute\u001b[49m\u001b[43m(\u001b[49m\u001b[38;5;124;43m\"\u001b[39;49m\u001b[38;5;124;43mcomment ajouter la propriété Nom d\u001b[39;49m\u001b[38;5;124;43m'\u001b[39;49m\u001b[38;5;124;43mutiliseur de type string [SEP]\u001b[39;49m\u001b[38;5;124;43m\"\u001b[39;49m\u001b[43m)\u001b[49m\n",
      "Cell \u001b[0;32mIn[3], line 106\u001b[0m, in \u001b[0;36mNLPInvoker.execute\u001b[0;34m(self, ordre)\u001b[0m\n\u001b[1;32m    103\u001b[0m how \u001b[38;5;241m=\u001b[39m \u001b[38;5;28mself\u001b[39m\u001b[38;5;241m.\u001b[39mComment(ordre)\u001b[38;5;241m+\u001b[39m\u001b[38;5;124m\"\u001b[39m\u001b[38;5;124m [SEP]\u001b[39m\u001b[38;5;124m\"\u001b[39m\n\u001b[1;32m    104\u001b[0m \u001b[38;5;28;01mfor\u001b[39;00m c \u001b[38;5;129;01min\u001b[39;00m \u001b[38;5;28mself\u001b[39m\u001b[38;5;241m.\u001b[39mgCmds:\n\u001b[1;32m    105\u001b[0m     \u001b[38;5;66;03m#print(c[2])\u001b[39;00m\n\u001b[0;32m--> 106\u001b[0m     f,res \u001b[38;5;241m=\u001b[39m \u001b[38;5;28;43mself\u001b[39;49m\u001b[38;5;241;43m.\u001b[39;49m\u001b[43msearch\u001b[49m\u001b[43m(\u001b[49m\u001b[43m[\u001b[49m\u001b[43mc\u001b[49m\u001b[43m[\u001b[49m\u001b[38;5;241;43m2\u001b[39;49m\u001b[43m]\u001b[49m\u001b[43m,\u001b[49m\u001b[43mtok\u001b[49m\u001b[43m(\u001b[49m\u001b[43mhow\u001b[49m\u001b[43m)\u001b[49m\u001b[38;5;241;43m.\u001b[39;49m\u001b[43minput_ids\u001b[49m\u001b[43m]\u001b[49m\u001b[43m)\u001b[49m\n\u001b[1;32m    107\u001b[0m     \u001b[38;5;28;01mif\u001b[39;00m f:\n\u001b[1;32m    108\u001b[0m         ch \u001b[38;5;241m=\u001b[39m \u001b[38;5;124m\"\u001b[39m\u001b[38;5;124m\"\u001b[39m\n",
      "Cell \u001b[0;32mIn[3], line 65\u001b[0m, in \u001b[0;36mNLPInvoker.search\u001b[0;34m(self, inputs)\u001b[0m\n\u001b[1;32m     63\u001b[0m first \u001b[38;5;241m=\u001b[39m \u001b[38;5;28;01mTrue\u001b[39;00m\n\u001b[1;32m     64\u001b[0m \u001b[38;5;28;01mfor\u001b[39;00m i \u001b[38;5;129;01min\u001b[39;00m \u001b[38;5;28mrange\u001b[39m(\u001b[38;5;28mlen\u001b[39m(split)):\n\u001b[0;32m---> 65\u001b[0m     lst \u001b[38;5;241m=\u001b[39m \u001b[38;5;28;43mself\u001b[39;49m\u001b[38;5;241;43m.\u001b[39;49m\u001b[43m_search\u001b[49m\u001b[43m(\u001b[49m\u001b[43minputs\u001b[49m\u001b[43m,\u001b[49m\u001b[43msplit\u001b[49m\u001b[43m,\u001b[49m\u001b[43mi\u001b[49m\u001b[43m)\u001b[49m\n\u001b[1;32m     66\u001b[0m     \u001b[38;5;28;01mif\u001b[39;00m i \u001b[38;5;241m!=\u001b[39m \u001b[38;5;28mlen\u001b[39m(split)\u001b[38;5;241m-\u001b[39m\u001b[38;5;241m1\u001b[39m:\n\u001b[1;32m     67\u001b[0m         result\u001b[38;5;241m.\u001b[39mappend(searchResult())\n",
      "Cell \u001b[0;32mIn[3], line 33\u001b[0m, in \u001b[0;36mNLPInvoker._search\u001b[0;34m(self, inputs, splits, idx)\u001b[0m\n\u001b[1;32m     30\u001b[0m \u001b[38;5;28;01mfor\u001b[39;00m e \u001b[38;5;129;01min\u001b[39;00m b:\n\u001b[1;32m     31\u001b[0m     \u001b[38;5;66;03m# print(e,cnt)\u001b[39;00m\n\u001b[1;32m     32\u001b[0m     \u001b[38;5;28;01mif\u001b[39;00m deb \u001b[38;5;241m==\u001b[39m \u001b[38;5;241m-\u001b[39m\u001b[38;5;241m1\u001b[39m :\n\u001b[0;32m---> 33\u001b[0m         \u001b[38;5;28;01mif\u001b[39;00m e\u001b[38;5;241m==\u001b[39m\u001b[43mtoSearch\u001b[49m\u001b[43m[\u001b[49m\u001b[43mcnt\u001b[49m\u001b[43m]\u001b[49m:\n\u001b[1;32m     34\u001b[0m             cnt \u001b[38;5;241m=\u001b[39m cnt \u001b[38;5;241m+\u001b[39m \u001b[38;5;241m1\u001b[39m\n\u001b[1;32m     35\u001b[0m             deb \u001b[38;5;241m=\u001b[39m i\n",
      "\u001b[0;31mIndexError\u001b[0m: list index out of range"
     ]
    }
   ],
   "source": [
    "lia.execute(\"comment ajouter la propriété Nom d'utiliseur de type string [SEP]\")"
   ]
  },
  {
   "cell_type": "code",
   "execution_count": 118,
   "id": "cdf17d1c-9ffc-47dc-a6d9-68dbc14322bc",
   "metadata": {},
   "outputs": [
    {
     "data": {
      "text/plain": [
       "(True,\n",
       " [<__main__.searchResult at 0x7f66080f7010>,\n",
       "  <__main__.searchResult at 0x7f66080f7b80>])"
      ]
     },
     "execution_count": 118,
     "metadata": {},
     "output_type": "execute_result"
    }
   ],
   "source": [
    "lia.search([tok(\"ajouter la propriété [MASK] de type [MASK] [SEP]\").input_ids,tok(\"je voudrais ajouter la propriété Nom d'utiliseur de type string [SEP]\").input_ids])\n"
   ]
  },
  {
   "cell_type": "code",
   "execution_count": 119,
   "id": "ed0da2ad-210a-4656-b4a9-0265f4344eba",
   "metadata": {},
   "outputs": [
    {
     "data": {
      "text/plain": [
       "'comment ajouter une propriete nom'"
      ]
     },
     "execution_count": 119,
     "metadata": {},
     "output_type": "execute_result"
    }
   ],
   "source": [
    "lia.Comment(\"* ajoute une propriété nom.\")"
   ]
  },
  {
   "cell_type": "code",
   "execution_count": 120,
   "id": "da4757cf-a688-4e49-85fb-96c53f636cc6",
   "metadata": {},
   "outputs": [
    {
     "name": "stdout",
     "output_type": "stream",
     "text": [
      "comment ajouter la propriete nom d'utilsateur de type integer\n"
     ]
    }
   ],
   "source": [
    "print(lia.Comment(\"* ajoute la propriété nom d'utilsateur de type Integer [SEP]\"))\n",
    "#lia.execute(lia.Comment(\"* ajoute la propriété nom d'utilsateur de type Integer [SEP]\"))"
   ]
  },
  {
   "cell_type": "code",
   "execution_count": 121,
   "id": "d82f5d05-ea0d-4587-bc73-31764cf68991",
   "metadata": {},
   "outputs": [
    {
     "data": {
      "text/plain": [
       "\"comment ajouterr la propriete nom d'utilsateur de type integer ?\""
      ]
     },
     "execution_count": 121,
     "metadata": {},
     "output_type": "execute_result"
    }
   ],
   "source": [
    "lia.execute(lia.Comment(\"* ajoute la propriété nom d'utilsateur de type Integer [SEP]\")+\" [SEP]\")"
   ]
  },
  {
   "cell_type": "code",
   "execution_count": 122,
   "id": "b3aec4dc-de02-4043-8e24-02bebc217b4f",
   "metadata": {},
   "outputs": [
    {
     "data": {
      "text/plain": [
       "'comment ajouter la constante fichier ini ayant pour valeur le nom de la dll ?'"
      ]
     },
     "execution_count": 122,
     "metadata": {},
     "output_type": "execute_result"
    }
   ],
   "source": [
    "lia.execute(\"* ajoute la constante fichier Ini ayant pour valeur le nom de la DLL.\")"
   ]
  },
  {
   "cell_type": "code",
   "execution_count": 123,
   "id": "148a1871-73dc-4571-8379-1b9c332a7d5c",
   "metadata": {},
   "outputs": [
    {
     "data": {
      "text/plain": [
       "\"comment ajouter la variable nom d'utilisateur de type string ?\""
      ]
     },
     "execution_count": 123,
     "metadata": {},
     "output_type": "execute_result"
    }
   ],
   "source": [
    "lia.execute(\"* ajoute la variable nom d'utilisateur de type string.\")"
   ]
  },
  {
   "cell_type": "code",
   "execution_count": 124,
   "id": "5bfd5228-a90b-412a-8451-f1f4596ff38b",
   "metadata": {},
   "outputs": [],
   "source": [
    "def q(question):\n",
    "    return lia.execute(\"* \"+question)"
   ]
  },
  {
   "cell_type": "code",
   "execution_count": 125,
   "id": "46bad076-73a4-47b7-806a-23dcc607ac92",
   "metadata": {},
   "outputs": [
    {
     "data": {
      "text/plain": [
       "'comment ajouter la constante password ayant pour valeur toto ?'"
      ]
     },
     "execution_count": 125,
     "metadata": {},
     "output_type": "execute_result"
    }
   ],
   "source": [
    "q(\"ajoute la constante password ayant pour valeur toto.\")"
   ]
  },
  {
   "cell_type": "code",
   "execution_count": 126,
   "id": "e8c785f3-daff-4d9f-83b0-513d5d7fde41",
   "metadata": {},
   "outputs": [
    {
     "data": {
      "text/plain": [
       "'comment creer une unitee ayant pour nom toto ?'"
      ]
     },
     "execution_count": 126,
     "metadata": {},
     "output_type": "execute_result"
    }
   ],
   "source": [
    "q(\"cree une unitée ayant pour nom toto.\")"
   ]
  },
  {
   "cell_type": "code",
   "execution_count": 127,
   "id": "70f5ace9-2879-41ba-ac3e-e683eadf7d97",
   "metadata": {},
   "outputs": [
    {
     "data": {
      "text/plain": [
       "'comment creer un singleton qui a pour nom le nom de la dll suivi de contexte ?'"
      ]
     },
     "execution_count": 127,
     "metadata": {},
     "output_type": "execute_result"
    }
   ],
   "source": [
    "q(\"cree un singleton qui a pour nom le nom de la dll suivi de Contexte.\")"
   ]
  },
  {
   "cell_type": "code",
   "execution_count": 128,
   "id": "524258c1-efc4-4e73-b34b-ddb8531df656",
   "metadata": {},
   "outputs": [
    {
     "data": {
      "text/plain": [
       "'comment ajouter la constante titi ayant pour valeur le nom de la dll suivi de contexte ?'"
      ]
     },
     "execution_count": 128,
     "metadata": {},
     "output_type": "execute_result"
    }
   ],
   "source": [
    "q(\"ajoute la constante titi ayant pour valeur le nom de la dll suivi de Contexte.\")"
   ]
  },
  {
   "cell_type": "code",
   "execution_count": 129,
   "id": "564027c2-38a6-4cba-a1c3-17dd6c0919c3",
   "metadata": {},
   "outputs": [
    {
     "data": {
      "text/plain": [
       "'comment creer une nouvelle unitee ayant pour nom toto ?'"
      ]
     },
     "execution_count": 129,
     "metadata": {},
     "output_type": "execute_result"
    }
   ],
   "source": [
    "q(\"cree une nouvelle unitée ayant pour nom toto.\")"
   ]
  },
  {
   "cell_type": "code",
   "execution_count": 130,
   "id": "d20cce3e-4f8e-4231-96b0-d7442f5179cc",
   "metadata": {},
   "outputs": [
    {
     "data": {
      "text/plain": [
       "'comment creer une unitee ayant pour nom toto ?'"
      ]
     },
     "execution_count": 130,
     "metadata": {},
     "output_type": "execute_result"
    }
   ],
   "source": [
    "q(\"cree une unitée ayant pour nom toto.\")"
   ]
  },
  {
   "cell_type": "code",
   "execution_count": 131,
   "id": "8384878e-e40d-44af-944f-7e00217fba73",
   "metadata": {},
   "outputs": [
    {
     "data": {
      "text/plain": [
       "{'input_ids': [7408, 467, 1465, 2453, 73, 8190, 408, 0, 0, 0, 0, 30, 0, 455, 1582, 2634, 0, 22, 0, 195, 0, 0], 'token_type_ids': [0, 0, 0, 0, 0, 0, 0, 0, 0, 0, 0, 0, 0, 0, 0, 0, 0, 0, 0, 0, 0, 0], 'attention_mask': [1, 1, 1, 1, 1, 1, 1, 1, 1, 1, 1, 1, 1, 1, 1, 1, 1, 1, 1, 1, 1, 1]}"
      ]
     },
     "execution_count": 131,
     "metadata": {},
     "output_type": "execute_result"
    }
   ],
   "source": [
    "a = q(\"\"\"applique le template suivant : \n",
    "|*|C|NomConstante| = |Valeur|;\n",
    "\"\"\")\n",
    "tok(\"\"\"applique le template suivant : \n",
    "|*|C|NomConstante| = |Valeur|;\n",
    "\"\"\")"
   ]
  },
  {
   "cell_type": "code",
   "execution_count": 132,
   "id": "a5fbe4d7-9a45-412f-813d-efd39cb4fd6a",
   "metadata": {},
   "outputs": [
    {
     "data": {
      "text/plain": [
       "'comment appliquer le template addconst ?'"
      ]
     },
     "execution_count": 132,
     "metadata": {},
     "output_type": "execute_result"
    }
   ],
   "source": [
    "q(\"applique le template addConst.\")"
   ]
  },
  {
   "cell_type": "code",
   "execution_count": 133,
   "id": "96bbec9f-f149-4160-851a-02f16058ae0d",
   "metadata": {},
   "outputs": [
    {
     "data": {
      "text/plain": [
       "\"comment donner comme explication que tu n'est pas programmee pour ca , que tu es desolee de ne pas pouvoir repondre ?\""
      ]
     },
     "execution_count": 133,
     "metadata": {},
     "output_type": "execute_result"
    }
   ],
   "source": [
    "q(\"donne comme explication que tu n'est pas programmée pour ça, que tu es désolée de ne pas pouvoir répondre.\")"
   ]
  },
  {
   "cell_type": "code",
   "execution_count": 134,
   "id": "1107470b-d7d7-4b3b-93a4-6b2d1180cffd",
   "metadata": {},
   "outputs": [
    {
     "data": {
      "text/plain": [
       "'comment demander a quoi sert le parametre ?'"
      ]
     },
     "execution_count": 134,
     "metadata": {},
     "output_type": "execute_result"
    }
   ],
   "source": [
    "q(\"demande a quoi sert le paramètre [MASK].\")"
   ]
  },
  {
   "cell_type": "code",
   "execution_count": 135,
   "id": "a922e35e-393b-4fe4-bca3-47cda732ebae",
   "metadata": {},
   "outputs": [
    {
     "data": {
      "text/plain": [
       "'comment sir tu ne sais pas comment faire , alors , donne comme explication que tu es desolee de ne pas pouvoir repondre ?'"
      ]
     },
     "execution_count": 135,
     "metadata": {},
     "output_type": "execute_result"
    }
   ],
   "source": [
    "q(\"si tu ne sais pas comment faire, alors, donne comme explication que tu es désolée de ne pas pouvoir répondre.\")"
   ]
  },
  {
   "cell_type": "code",
   "execution_count": 136,
   "id": "d7d9091a-7c6a-457d-867d-ed62b2db9673",
   "metadata": {},
   "outputs": [
    {
     "data": {
      "text/plain": [
       "'comment ilr faudrait appliquer le template suivant fjsqdlkfjsdqjflksdq ?'"
      ]
     },
     "execution_count": 136,
     "metadata": {},
     "output_type": "execute_result"
    }
   ],
   "source": [
    "q(\"\"\"il faudrait appliquer le template suivant : \n",
    "fjsqdlkfjsdqjflksdqf\n",
    "\"\"\")"
   ]
  },
  {
   "cell_type": "code",
   "execution_count": 137,
   "id": "f7ad86be-d0f8-46bf-b754-a84d6e71ed0c",
   "metadata": {},
   "outputs": [
    {
     "data": {
      "text/plain": [
       "'comment jer voudrais que tu appliques le template suivant fjsqdlkfjsdqjflksdq ?'"
      ]
     },
     "execution_count": 137,
     "metadata": {},
     "output_type": "execute_result"
    }
   ],
   "source": [
    "q(\"\"\"je voudrais que tu appliques le template suivant : \n",
    "fjsqdlkfjsdqjflksdqf\n",
    "\"\"\")"
   ]
  },
  {
   "cell_type": "code",
   "execution_count": 140,
   "id": "9677c819-1163-42ba-bf82-f61bd9321554",
   "metadata": {},
   "outputs": [
    {
     "name": "stdout",
     "output_type": "stream",
     "text": [
      " LIA > comment donner comme explication que tu es la pour aider au codage d'une dll d'api rest ?\n"
     ]
    },
    {
     "name": "stdin",
     "output_type": "stream",
     "text": [
      "USER > ajoute une unitée.\n"
     ]
    },
    {
     "name": "stdout",
     "output_type": "stream",
     "text": [
      " LIA > comment ajouter une unitee ?\n"
     ]
    },
    {
     "name": "stdin",
     "output_type": "stream",
     "text": [
      "USER > Crée un nouveau fichier vide.\n"
     ]
    },
    {
     "name": "stdout",
     "output_type": "stream",
     "text": [
      " LIA > comment creer un nouveau fichier vide ?\n"
     ]
    },
    {
     "name": "stdin",
     "output_type": "stream",
     "text": [
      "USER > Crée un nouveau fichier vide ayant pour nom toto.pas.\n"
     ]
    },
    {
     "name": "stdout",
     "output_type": "stream",
     "text": [
      " LIA > comment creer un nouveau fichier vide ayant pour nom toto . pas ?\n"
     ]
    },
    {
     "ename": "KeyboardInterrupt",
     "evalue": "Interrupted by user",
     "output_type": "error",
     "traceback": [
      "\u001b[0;31m---------------------------------------------------------------------------\u001b[0m",
      "\u001b[0;31mKeyboardInterrupt\u001b[0m                         Traceback (most recent call last)",
      "Cell \u001b[0;32mIn[140], line 4\u001b[0m\n\u001b[1;32m      2\u001b[0m \u001b[38;5;28;01mwhile\u001b[39;00m input1 \u001b[38;5;241m!=\u001b[39m \u001b[38;5;124m\"\u001b[39m\u001b[38;5;124mend\u001b[39m\u001b[38;5;124m\"\u001b[39m:\n\u001b[1;32m      3\u001b[0m     \u001b[38;5;28mprint\u001b[39m(\u001b[38;5;124m\"\u001b[39m\u001b[38;5;124m LIA >\u001b[39m\u001b[38;5;124m\"\u001b[39m,q(input1))\n\u001b[0;32m----> 4\u001b[0m     input1 \u001b[38;5;241m=\u001b[39m \u001b[38;5;28;43minput\u001b[39;49m\u001b[43m(\u001b[49m\u001b[38;5;124;43m\"\u001b[39;49m\u001b[38;5;124;43mUSER >\u001b[39;49m\u001b[38;5;124;43m\"\u001b[39;49m\u001b[43m)\u001b[49m\n",
      "File \u001b[0;32m/opt/conda/lib/python3.10/site-packages/ipykernel/kernelbase.py:1282\u001b[0m, in \u001b[0;36mKernel.raw_input\u001b[0;34m(self, prompt)\u001b[0m\n\u001b[1;32m   1280\u001b[0m     msg \u001b[38;5;241m=\u001b[39m \u001b[38;5;124m\"\u001b[39m\u001b[38;5;124mraw_input was called, but this frontend does not support input requests.\u001b[39m\u001b[38;5;124m\"\u001b[39m\n\u001b[1;32m   1281\u001b[0m     \u001b[38;5;28;01mraise\u001b[39;00m StdinNotImplementedError(msg)\n\u001b[0;32m-> 1282\u001b[0m \u001b[38;5;28;01mreturn\u001b[39;00m \u001b[38;5;28;43mself\u001b[39;49m\u001b[38;5;241;43m.\u001b[39;49m\u001b[43m_input_request\u001b[49m\u001b[43m(\u001b[49m\n\u001b[1;32m   1283\u001b[0m \u001b[43m    \u001b[49m\u001b[38;5;28;43mstr\u001b[39;49m\u001b[43m(\u001b[49m\u001b[43mprompt\u001b[49m\u001b[43m)\u001b[49m\u001b[43m,\u001b[49m\n\u001b[1;32m   1284\u001b[0m \u001b[43m    \u001b[49m\u001b[38;5;28;43mself\u001b[39;49m\u001b[38;5;241;43m.\u001b[39;49m\u001b[43m_parent_ident\u001b[49m\u001b[43m[\u001b[49m\u001b[38;5;124;43m\"\u001b[39;49m\u001b[38;5;124;43mshell\u001b[39;49m\u001b[38;5;124;43m\"\u001b[39;49m\u001b[43m]\u001b[49m\u001b[43m,\u001b[49m\n\u001b[1;32m   1285\u001b[0m \u001b[43m    \u001b[49m\u001b[38;5;28;43mself\u001b[39;49m\u001b[38;5;241;43m.\u001b[39;49m\u001b[43mget_parent\u001b[49m\u001b[43m(\u001b[49m\u001b[38;5;124;43m\"\u001b[39;49m\u001b[38;5;124;43mshell\u001b[39;49m\u001b[38;5;124;43m\"\u001b[39;49m\u001b[43m)\u001b[49m\u001b[43m,\u001b[49m\n\u001b[1;32m   1286\u001b[0m \u001b[43m    \u001b[49m\u001b[43mpassword\u001b[49m\u001b[38;5;241;43m=\u001b[39;49m\u001b[38;5;28;43;01mFalse\u001b[39;49;00m\u001b[43m,\u001b[49m\n\u001b[1;32m   1287\u001b[0m \u001b[43m\u001b[49m\u001b[43m)\u001b[49m\n",
      "File \u001b[0;32m/opt/conda/lib/python3.10/site-packages/ipykernel/kernelbase.py:1325\u001b[0m, in \u001b[0;36mKernel._input_request\u001b[0;34m(self, prompt, ident, parent, password)\u001b[0m\n\u001b[1;32m   1322\u001b[0m \u001b[38;5;28;01mexcept\u001b[39;00m \u001b[38;5;167;01mKeyboardInterrupt\u001b[39;00m:\n\u001b[1;32m   1323\u001b[0m     \u001b[38;5;66;03m# re-raise KeyboardInterrupt, to truncate traceback\u001b[39;00m\n\u001b[1;32m   1324\u001b[0m     msg \u001b[38;5;241m=\u001b[39m \u001b[38;5;124m\"\u001b[39m\u001b[38;5;124mInterrupted by user\u001b[39m\u001b[38;5;124m\"\u001b[39m\n\u001b[0;32m-> 1325\u001b[0m     \u001b[38;5;28;01mraise\u001b[39;00m \u001b[38;5;167;01mKeyboardInterrupt\u001b[39;00m(msg) \u001b[38;5;28;01mfrom\u001b[39;00m \u001b[38;5;28;01mNone\u001b[39;00m\n\u001b[1;32m   1326\u001b[0m \u001b[38;5;28;01mexcept\u001b[39;00m \u001b[38;5;167;01mException\u001b[39;00m:\n\u001b[1;32m   1327\u001b[0m     \u001b[38;5;28mself\u001b[39m\u001b[38;5;241m.\u001b[39mlog\u001b[38;5;241m.\u001b[39mwarning(\u001b[38;5;124m\"\u001b[39m\u001b[38;5;124mInvalid Message:\u001b[39m\u001b[38;5;124m\"\u001b[39m, exc_info\u001b[38;5;241m=\u001b[39m\u001b[38;5;28;01mTrue\u001b[39;00m)\n",
      "\u001b[0;31mKeyboardInterrupt\u001b[0m: Interrupted by user"
     ]
    }
   ],
   "source": [
    "input1=\"donne comme explication que tu es la pour aider au codage d'une dll d'api rest.\"\n",
    "while input1 != \"end\":\n",
    "    print(\" LIA >\",q(input1))\n",
    "    input1 = input(\"USER >\")\n"
   ]
  },
  {
   "cell_type": "code",
   "execution_count": null,
   "id": "fed6387d-0aa7-4bf4-a9d0-b3bcb7c176da",
   "metadata": {},
   "outputs": [],
   "source": []
  }
 ],
 "metadata": {
  "kernelspec": {
   "display_name": "Python 3 (ipykernel)",
   "language": "python",
   "name": "python3"
  },
  "language_info": {
   "codemirror_mode": {
    "name": "ipython",
    "version": 3
   },
   "file_extension": ".py",
   "mimetype": "text/x-python",
   "name": "python",
   "nbconvert_exporter": "python",
   "pygments_lexer": "ipython3",
   "version": "3.10.13"
  }
 },
 "nbformat": 4,
 "nbformat_minor": 5
}
