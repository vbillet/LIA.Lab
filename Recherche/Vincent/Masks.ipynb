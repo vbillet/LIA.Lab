{
 "cells": [
  {
   "cell_type": "code",
   "execution_count": 369,
   "id": "f790408c-f1f6-44dc-a379-d5e1624a01e3",
   "metadata": {},
   "outputs": [],
   "source": [
    "from transformers import AutoTokenizer"
   ]
  },
  {
   "cell_type": "code",
   "execution_count": 370,
   "id": "502e9aa6-9d71-4555-aa33-81c5effa4f8e",
   "metadata": {},
   "outputs": [],
   "source": [
    "cp = \"Tables\"\n",
    "tok = AutoTokenizer.from_pretrained(cp)"
   ]
  },
  {
   "cell_type": "code",
   "execution_count": 371,
   "id": "9f99930e-8f67-4e6a-a751-80a34f0c0ee3",
   "metadata": {},
   "outputs": [
    {
     "name": "stdout",
     "output_type": "stream",
     "text": [
      "{'input_ids': [[8510, 3979, 6282, 386, 4263, 226, 2943, 287, 3657, 5703, 2776, 4265, 4666, 30, 59, 2058, 169, 24, 10], [4265, 382, 6144, 15258, 775, 5207, 107, 12233, 80]], 'token_type_ids': [[0, 0, 0, 0, 0, 0, 0, 0, 0, 0, 0, 0, 0, 0, 0, 0, 0, 0, 0], [0, 0, 0, 0, 0, 0, 0, 0, 0]], 'attention_mask': [[1, 1, 1, 1, 1, 1, 1, 1, 1, 1, 1, 1, 1, 1, 1, 1, 1, 1, 1], [1, 1, 1, 1, 1, 1, 1, 1, 1]]}\n"
     ]
    }
   ],
   "source": [
    "inp = tok([\"je voudrais avoir la liste des commandes fournisseurs est ce que ça change ?.\",\"ceci va changer pas mal de choses\"])\n",
    "print(inp)\n"
   ]
  },
  {
   "cell_type": "code",
   "execution_count": 372,
   "id": "53482741-8dc8-4862-9568-583876776e55",
   "metadata": {},
   "outputs": [
    {
     "name": "stdout",
     "output_type": "stream",
     "text": [
      "{'input_ids': [[17475, 17156, 67, 226, 8254, 4, 107, 265, 4, 10], [8510, 3979, 6282, 386, 17156, 67, 226, 8254, 455, 107, 39, 6, 1159, 107, 265, 7934, 10]], 'token_type_ids': [[0, 0, 0, 0, 0, 0, 0, 0, 0, 0], [0, 0, 0, 0, 0, 0, 0, 0, 0, 0, 0, 0, 0, 0, 0, 0, 0]], 'attention_mask': [[1, 1, 1, 1, 1, 1, 1, 1, 1, 1], [1, 1, 1, 1, 1, 1, 1, 1, 1, 1, 1, 1, 1, 1, 1, 1, 1]]}\n"
     ]
    }
   ],
   "source": [
    "inp = tok([\"comment ajouter la propriété [MASK] de type [MASK].\",\"je voudrais ajouter la propriété Nom de l'utilisateur de type string.\"])\n",
    "print(inp)\n"
   ]
  },
  {
   "cell_type": "code",
   "execution_count": 373,
   "id": "4c545788-724e-4cf9-a548-f552f0a6149f",
   "metadata": {},
   "outputs": [],
   "source": [
    "def tok2(inputs):\n",
    "    result = []\n",
    "    a = inputs.input_ids[0]\n",
    "    b = inputs.input_ids[1]\n",
    "    cnt = 0\n",
    "    mask = -1\n",
    "    append = False;\n",
    "    print(a)\n",
    "    for e in b:\n",
    "        if e==a[cnt]:\n",
    "            cnt = cnt + 1\n",
    "            append = False\n",
    "        if a[cnt]==4:\n",
    "            cnt = cnt + 1\n",
    "            mask = mask + 1\n",
    "            result.append([])\n",
    "            append = True\n",
    "        if append:\n",
    "            result[mask].append(e)\n",
    "        print(e, a[cnt], cnt, tok.decode(result))\n",
    "        if cnt>=len(a):\n",
    "            break;\n",
    "        \n",
    "    print(cnt)\n",
    "    print(tok.decode(result))"
   ]
  },
  {
   "cell_type": "code",
   "execution_count": 374,
   "id": "b2018c6b-69ec-4c78-922e-8a4f8e7cdc31",
   "metadata": {},
   "outputs": [
    {
     "name": "stdout",
     "output_type": "stream",
     "text": [
      "[17475, 17156, 67, 226, 8254, 4, 107, 265, 4, 10]\n",
      "8510 17475 0 \n",
      "3979 17475 0 \n",
      "6282 17475 0 \n",
      "386 17475 0 \n",
      "17156 17475 0 \n",
      "67 17475 0 \n",
      "226 17475 0 \n",
      "8254 17475 0 \n",
      "455 17475 0 \n",
      "107 17475 0 \n",
      "39 17475 0 \n",
      "6 17475 0 \n",
      "1159 17475 0 \n",
      "107 17475 0 \n",
      "265 17475 0 \n",
      "7934 17475 0 \n",
      "10 17475 0 \n",
      "0\n",
      "\n"
     ]
    }
   ],
   "source": [
    "tok2(inp)"
   ]
  },
  {
   "cell_type": "code",
   "execution_count": 375,
   "id": "f3c708a9-abd0-4a18-b328-f086f10d0d36",
   "metadata": {},
   "outputs": [
    {
     "name": "stdout",
     "output_type": "stream",
     "text": [
      "{'input_ids': [[0, 215, 4, 635, 4, 10], [215, 7769, 37, 105, 84, 635, 695, 37, 6374, 56, 10]], 'token_type_ids': [[0, 0, 0, 0, 0, 0], [0, 0, 0, 0, 0, 0, 0, 0, 0, 0, 0]], 'attention_mask': [[1, 1, 1, 1, 1, 1], [1, 1, 1, 1, 1, 1, 1, 1, 1, 1, 1]]}\n"
     ]
    }
   ],
   "source": [
    "inp = tok([\"* du [MASK] au [MASK].\",\"du premier juin au 15 juillet.\"])\n",
    "print(inp)"
   ]
  },
  {
   "cell_type": "code",
   "execution_count": 376,
   "id": "142d0e72-6882-4864-8718-6db31bc21c67",
   "metadata": {},
   "outputs": [],
   "source": [
    "def split4(inputs):\n",
    "    result = []\n",
    "    current = []\n",
    "    a = inputs.input_ids[0][1:]\n",
    "    for e in a:\n",
    "        if e != 4 : \n",
    "            current.append(e)\n",
    "        else:\n",
    "            result.append(current)\n",
    "            current = []\n",
    "    result.append(current)\n",
    "    return result"
   ]
  },
  {
   "cell_type": "code",
   "execution_count": 377,
   "id": "efb0c03c-60e9-40d1-9fc2-8f0701155baf",
   "metadata": {},
   "outputs": [
    {
     "data": {
      "text/plain": [
       "[215]"
      ]
     },
     "execution_count": 377,
     "metadata": {},
     "output_type": "execute_result"
    }
   ],
   "source": [
    "split4(inp)[0]"
   ]
  },
  {
   "cell_type": "code",
   "execution_count": 378,
   "id": "fc4d15c3-5e57-44da-868e-4c2ced727e1e",
   "metadata": {},
   "outputs": [],
   "source": [
    "def _search(inputs,splits,idx):\n",
    "    result = []\n",
    "    current = []\n",
    "    deb = -1\n",
    "    fin = -1\n",
    "    i = 0\n",
    "    cnt = 0\n",
    "    cntLoss = 0\n",
    "    # print(inputs)\n",
    "    toSearch = splits[idx]\n",
    "    # print(toSearch)\n",
    "    b = inputs.input_ids[1]\n",
    "    for e in b:\n",
    "        # print(e,cnt)\n",
    "        if deb == -1 :\n",
    "            if e==toSearch[cnt]:\n",
    "                cnt = cnt + 1\n",
    "                deb = i\n",
    "                cntLoss = 0 \n",
    "                if len(toSearch) == 1:\n",
    "                    fin = i+1\n",
    "                    cnt = 0\n",
    "                    cntLoss = 0\n",
    "                    #print(\"found\")\n",
    "                    break\n",
    "        else:\n",
    "            if e==toSearch[cnt]:\n",
    "                cnt = cnt + 1\n",
    "                cntLoss = 0 \n",
    "                if cnt ==len(toSearch):\n",
    "                    fin = i+1\n",
    "                    #print(\"found\")\n",
    "                    break\n",
    "            else:\n",
    "                cntLoss = cntLoss + 1\n",
    "                if cntLoss>2:\n",
    "                    deb = -1\n",
    "                    cnt = 0\n",
    "        i = i +1\n",
    "    #print(\"------\")\n",
    "    #print(deb)    \n",
    "    #print(fin)\n",
    "    #for i in range(deb,fin+1):\n",
    "    return [deb,fin]\n",
    "    #print(tok.decode(b[deb:fin]).replace(\" ##\",\"\"), \": \", tok.decode(b[8:13]).replace(\" ##\",\"\").replace(\" ' \",\"'\"))"
   ]
  },
  {
   "cell_type": "code",
   "execution_count": 379,
   "id": "5fc41cc5-1786-4183-a185-9aceeff21ff0",
   "metadata": {},
   "outputs": [
    {
     "data": {
      "text/plain": [
       "[5, 6]"
      ]
     },
     "execution_count": 379,
     "metadata": {},
     "output_type": "execute_result"
    }
   ],
   "source": [
    "_search(inp,split4(inp),1)"
   ]
  },
  {
   "cell_type": "code",
   "execution_count": 417,
   "id": "18b9987f-eeaa-4d2b-af19-fc8d1a1a65ac",
   "metadata": {},
   "outputs": [],
   "source": [
    "class searchResult:\n",
    "    def __init__(self):\n",
    "        self.start = 0\n",
    "        self.end = 0\n",
    "        self.txt = ''\n",
    "        self.extract = ''\n",
    "        \n",
    "def search(inputs):\n",
    "    print(inputs)\n",
    "    split = split4(inputs)\n",
    "    result = []\n",
    "    first = True\n",
    "    for i in range(len(split)):\n",
    "        lst = _search(inputs,split,i)\n",
    "        if i != len(split)-1:\n",
    "            result.append(searchResult())\n",
    "            result[i].start = lst[1]\n",
    "        if i !=0:\n",
    "            result[i-1].end = lst[0]\n",
    "    for i in range(len(split)-1):\n",
    "        result[i].extract = tok.decode(inputs.input_ids[1][result[i].start:result[i].end]).replace(\" ##\",\"\")\n",
    "        result[i].txt = tok.decode(split[i]).replace(\" ##\",\"\")\n",
    "\n",
    "    found = True\n",
    "    for r in result:\n",
    "        if r.start == -1:\n",
    "            found = False\n",
    "            break\n",
    "        if r.end == -1:\n",
    "            found = False\n",
    "            break\n",
    "       \n",
    "    return found, result   \n",
    "    #for r in result:\n",
    "    #    print(r.__dict__)\n",
    "        "
   ]
  },
  {
   "cell_type": "code",
   "execution_count": 418,
   "id": "ec05f85d-d0fe-4c07-97c6-4437dd7aa455",
   "metadata": {},
   "outputs": [
    {
     "name": "stdout",
     "output_type": "stream",
     "text": [
      "{'input_ids': [[0, 215, 4, 635, 4, 10], [8510, 3979, 6282, 386, 3860, 126, 215, 7769, 37, 6374, 56, 635, 695, 37, 6374, 56, 10]], 'token_type_ids': [[0, 0, 0, 0, 0, 0], [0, 0, 0, 0, 0, 0, 0, 0, 0, 0, 0, 0, 0, 0, 0, 0, 0]], 'attention_mask': [[1, 1, 1, 1, 1, 1], [1, 1, 1, 1, 1, 1, 1, 1, 1, 1, 1, 1, 1, 1, 1, 1, 1]]}\n",
      "du  :  premier juillet 7 11\n",
      "au  :  15 juillet 12 16\n"
     ]
    }
   ],
   "source": [
    "f, res = search(tok([\"* du [MASK] au [MASK].\",\"je voudrais réserver du premier juillet au 15 juillet.\"]))\n",
    "#print(res)\n",
    "if f:\n",
    "    for r in res:\n",
    "        print(r.txt,\" : \",r.extract, r.start,r.end)\n",
    "else:\n",
    "    print(\"not found\")\n",
    "#a=searchResult()"
   ]
  },
  {
   "cell_type": "code",
   "execution_count": 382,
   "id": "7ba1905e-c3dd-488c-9d41-fd1750a5c55d",
   "metadata": {},
   "outputs": [
    {
     "name": "stdout",
     "output_type": "stream",
     "text": [
      "ajouter la propriete  :  nom de l ' utilisateur 8 13\n",
      "de type  :  string 15 16\n"
     ]
    }
   ],
   "source": [
    "f, res = search(tok([\"comment ajouter la propriété [MASK] de type [MASK].\",\"je voudrais ajouter la propriété Nom de l'utilisateur de type string.\"]))\n",
    "#print(res)\n",
    "if f:\n",
    "    for r in res:\n",
    "        print(r.txt,\" : \",r.extract, r.start,r.end)\n",
    "else:\n",
    "    print(\"not found\")"
   ]
  },
  {
   "cell_type": "code",
   "execution_count": 383,
   "id": "75ded9e2-0cb1-4eaa-97e1-ce7987d714db",
   "metadata": {},
   "outputs": [
    {
     "name": "stdout",
     "output_type": "stream",
     "text": [
      "not found\n"
     ]
    }
   ],
   "source": [
    "f, res = search(tok([\"comment ajouter une constante [MASK] avec comme valeur [MASK]µ\",\"je voudrais ajouter la constante fichier ini avec comme valeur Yousign.ini µ\"]))\n",
    "#print(res)\n",
    "if f:\n",
    "    for r in res:\n",
    "        print(r.txt,\" : \",r.extract, r.start,r.end)\n",
    "else:\n",
    "    print(\"not found\")"
   ]
  },
  {
   "cell_type": "code",
   "execution_count": 404,
   "id": "8586dcf5-2c9d-4c0e-b305-b70c51257cba",
   "metadata": {},
   "outputs": [
    {
     "name": "stdout",
     "output_type": "stream",
     "text": [
      "not found\n"
     ]
    }
   ],
   "source": [
    "f, res = search(tok([\"comment ajouter la constante [MASK] avec comme valeur [MASK].\",\"je voudrais ajouter la propriété Nom de l'utilisateur de type string.\"]))\n",
    "#print(res)\n",
    "if f:\n",
    "    for r in res:\n",
    "        print(r.txt,\" : \",r.extract, r.start,r.end)\n",
    "else:\n",
    "    print(\"not found\")"
   ]
  },
  {
   "cell_type": "code",
   "execution_count": 405,
   "id": "1208c67d-aff8-4743-a728-702487fa9273",
   "metadata": {},
   "outputs": [
    {
     "name": "stdout",
     "output_type": "stream",
     "text": [
      "not found\n"
     ]
    }
   ],
   "source": [
    "f, res = search(tok([\"comment ajouter la propriété [MASK] de type [MASK].\",\"je voudrais ajouter la constante fichier ini avec comme valeur Yousign.ini.\"]))\n",
    "#print(res)\n",
    "if f:\n",
    "    for r in res:\n",
    "        print(r.txt,\" : \",r.extract, r.start,r.end)\n",
    "else:\n",
    "    print(\"not found\")"
   ]
  },
  {
   "cell_type": "code",
   "execution_count": 406,
   "id": "3c95508c-c406-402e-aeeb-5dc605201945",
   "metadata": {},
   "outputs": [
    {
     "data": {
      "text/plain": [
       "{'data': {'input_ids': [[17475,\n",
       "    17156,\n",
       "    67,\n",
       "    226,\n",
       "    17535,\n",
       "    73,\n",
       "    4,\n",
       "    1531,\n",
       "    17474,\n",
       "    195,\n",
       "    4,\n",
       "    10]],\n",
       "  'token_type_ids': [[0, 0, 0, 0, 0, 0, 0, 0, 0, 0, 0, 0]],\n",
       "  'attention_mask': [[1, 1, 1, 1, 1, 1, 1, 1, 1, 1, 1, 1]]},\n",
       " '_encodings': [Encoding(num_tokens=12, attributes=[ids, type_ids, tokens, offsets, attention_mask, special_tokens_mask, overflowing])],\n",
       " '_n_sequences': 1}"
      ]
     },
     "execution_count": 406,
     "metadata": {},
     "output_type": "execute_result"
    }
   ],
   "source": [
    "tok([\"comment ajouter la constante [MASK] avec comme valeur [MASK].\"]).__dict__"
   ]
  },
  {
   "cell_type": "code",
   "execution_count": 415,
   "id": "50af241e-85a9-4a69-ae30-c4f21e6162a9",
   "metadata": {},
   "outputs": [],
   "source": [
    "gCmds = []\n",
    "def addCmd(question, params,nomCommande, where):\n",
    "    gCmds.append([question, params,nomCommande, where])\n",
    "\n",
    "addCmd(tok(\"comment ajouter la constante [MASK] avec comme valeur [MASK].\").input_ids,[\"ajout_constante\"],tok(\"ajoutcode\").input_ids, tok(\"constantes\").input_ids)\n",
    "addCmd(tok(\"comment ajouter la constante [MASK] avec comme valeur [MASK].\").input_ids,[\"ajout constante\"],tok(\"ajoutcode\").input_ids, tok(\"constantes\").input_ids)\n",
    "\n",
    "addCmd(tok(\"comment ajouter la propriété [MASK] de type [MASK].\").input_ids,[],tok(\"exemplecode\").input_ids, tok(\"public\").input_ids)\n",
    "addCmd(tok(\"comment créer une unité ayant pour nom [MASK].\").input_ids,[],tok(\"exemplecode\").input_ids, tok(\"nouveau\").input_ids)\n",
    "addCmd(tok(\"comment créer une unité avec pour nom [MASK].\").input_ids,[],tok(\"exemplecode\").input_ids, tok(\"nouveau\").input_ids)\n",
    "addCmd(tok(\"comment créer une unité de nom [MASK].\").input_ids,[],tok(\"exemplecode\").input_ids, tok(\"nouveau\").input_ids)\n",
    "addCmd(tok(\"ayant pour nom [MASK].\").input_ids,[],tok(\"memoire\").input_ids, tok(\"nom\").input_ids)\n",
    "addCmd(tok(\"le nom [MASK].\").input_ids,[],tok(\"memoire\").input_ids, tok(\"nom\").input_ids)"
   ]
  },
  {
   "cell_type": "code",
   "execution_count": 416,
   "id": "735f2802-2de1-4938-b87f-6a3075d5c484",
   "metadata": {},
   "outputs": [
    {
     "data": {
      "text/plain": [
       "[[[17475, 17156, 67, 226, 17535, 73, 4, 1531, 17474, 195, 4, 10],\n",
       "  ['ajout_constante'],\n",
       "  [7917, 936],\n",
       "  [17535, 186]],\n",
       " [[17475, 17156, 67, 226, 17535, 73, 4, 1531, 17474, 195, 4, 10],\n",
       "  ['ajout constante'],\n",
       "  [7917, 936],\n",
       "  [17535, 186]],\n",
       " [[17475, 17156, 67, 226, 8254, 4, 107, 265, 4, 10], [], [8165, 936], [8047]],\n",
       " [[17475, 13335, 2244, 1797, 4618, 225, 455, 4, 10], [], [8165, 936], [3326]],\n",
       " [[17475, 13335, 2244, 1797, 1531, 225, 455, 4, 10], [], [8165, 936], [3326]],\n",
       " [[17475, 13335, 2244, 1797, 107, 455, 4, 10], [], [8165, 936], [3326]],\n",
       " [[4618, 225, 455, 4, 10], [], [1902, 321], [455]],\n",
       " [[467, 455, 4, 10], [], [1902, 321], [455]]]"
      ]
     },
     "execution_count": 416,
     "metadata": {},
     "output_type": "execute_result"
    }
   ],
   "source": [
    "gCmds"
   ]
  },
  {
   "cell_type": "code",
   "execution_count": 409,
   "id": "2de6b6de-69d9-4331-845d-d70296ddf170",
   "metadata": {},
   "outputs": [
    {
     "name": "stdout",
     "output_type": "stream",
     "text": [
      "comme valeur  :  yousign . ini 18 24\n"
     ]
    }
   ],
   "source": [
    "f, res = search(tok([\"* comme valeur [MASK][SEP]\",\"je voudrais ajouter la constante ayant pour nom fichier ini. avec comme valeur Yousign.ini[SEP]\"]))\n",
    "#print(res)\n",
    "if f:\n",
    "    for r in res:\n",
    "        print(r.txt,\" : \",r.extract, r.start,r.end)\n",
    "else:\n",
    "    print(\"not found\")"
   ]
  },
  {
   "cell_type": "code",
   "execution_count": 410,
   "id": "514b8565-b303-4fe5-90a1-ea90eb6a6e18",
   "metadata": {},
   "outputs": [
    {
     "name": "stdout",
     "output_type": "stream",
     "text": [
      "avec pour nom  :  fichier ini 12 14\n"
     ]
    }
   ],
   "source": [
    "f, res = search(tok([\"* avec pour nom [MASK],\",\"je voudrais ajouter la constante avec pour nom fichier ini, avec comme valeur Yousign.ini µ\"]))\n",
    "#print(res)\n",
    "if f:\n",
    "    for r in res:\n",
    "        print(r.txt,\" : \",r.extract, r.start,r.end)\n",
    "else:\n",
    "    print(\"not found\")"
   ]
  },
  {
   "cell_type": "code",
   "execution_count": 414,
   "id": "d78704c2-815b-4009-bb04-cdc8fbb7db35",
   "metadata": {},
   "outputs": [
    {
     "data": {
      "text/plain": [
       "{'input_ids': [467, 455, 107, 226, 17535, 73, 1546, 28, 225, 195, 25, 195, 26, 3], 'token_type_ids': [0, 0, 0, 0, 0, 0, 0, 0, 0, 0, 0, 0, 0, 0], 'attention_mask': [1, 1, 1, 1, 1, 1, 1, 1, 1, 1, 1, 1, 1, 1]}"
      ]
     },
     "execution_count": 414,
     "metadata": {},
     "output_type": "execute_result"
    }
   ],
   "source": [
    "tok(\"le nom de la constante qui a pour valeur [Valeur][SEP]\")"
   ]
  },
  {
   "cell_type": "code",
   "execution_count": 412,
   "id": "5f409bed-f802-4aa2-823c-49b4b5fc9e12",
   "metadata": {},
   "outputs": [
    {
     "data": {
      "text/plain": [
       "{'input_ids': [4666, 66, 2776], 'token_type_ids': [0, 0, 0], 'attention_mask': [1, 1, 1]}"
      ]
     },
     "execution_count": 412,
     "metadata": {},
     "output_type": "execute_result"
    }
   ],
   "source": [
    "tok(\"quel est \")"
   ]
  },
  {
   "cell_type": "code",
   "execution_count": null,
   "id": "6b56ed1f-3dfe-467a-8e47-d7cde6193c73",
   "metadata": {},
   "outputs": [],
   "source": []
  }
 ],
 "metadata": {
  "kernelspec": {
   "display_name": "Python 3 (ipykernel)",
   "language": "python",
   "name": "python3"
  },
  "language_info": {
   "codemirror_mode": {
    "name": "ipython",
    "version": 3
   },
   "file_extension": ".py",
   "mimetype": "text/x-python",
   "name": "python",
   "nbconvert_exporter": "python",
   "pygments_lexer": "ipython3",
   "version": "3.10.13"
  }
 },
 "nbformat": 4,
 "nbformat_minor": 5
}
